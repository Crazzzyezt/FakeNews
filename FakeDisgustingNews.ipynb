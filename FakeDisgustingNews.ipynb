{
 "cells": [
  {
   "cell_type": "markdown",
   "id": "6193dcc4",
   "metadata": {},
   "source": [
    "# 1: Import and preparation"
   ]
  },
  {
   "cell_type": "code",
   "execution_count": 51,
   "id": "2eed0b1e",
   "metadata": {},
   "outputs": [
    {
     "data": {
      "text/html": [
       "<div>\n",
       "<style scoped>\n",
       "    .dataframe tbody tr th:only-of-type {\n",
       "        vertical-align: middle;\n",
       "    }\n",
       "\n",
       "    .dataframe tbody tr th {\n",
       "        vertical-align: top;\n",
       "    }\n",
       "\n",
       "    .dataframe thead th {\n",
       "        text-align: right;\n",
       "    }\n",
       "</style>\n",
       "<table border=\"1\" class=\"dataframe\">\n",
       "  <thead>\n",
       "    <tr style=\"text-align: right;\">\n",
       "      <th></th>\n",
       "      <th>title</th>\n",
       "      <th>subject</th>\n",
       "      <th>label</th>\n",
       "    </tr>\n",
       "  </thead>\n",
       "  <tbody>\n",
       "    <tr>\n",
       "      <th>0</th>\n",
       "      <td>As U.S. budget fight looms, Republicans flip t...</td>\n",
       "      <td>politicsNews</td>\n",
       "      <td>1</td>\n",
       "    </tr>\n",
       "    <tr>\n",
       "      <th>1</th>\n",
       "      <td>U.S. military to accept transgender recruits o...</td>\n",
       "      <td>politicsNews</td>\n",
       "      <td>1</td>\n",
       "    </tr>\n",
       "    <tr>\n",
       "      <th>2</th>\n",
       "      <td>Senior U.S. Republican senator: 'Let Mr. Muell...</td>\n",
       "      <td>politicsNews</td>\n",
       "      <td>1</td>\n",
       "    </tr>\n",
       "    <tr>\n",
       "      <th>3</th>\n",
       "      <td>FBI Russia probe helped by Australian diplomat...</td>\n",
       "      <td>politicsNews</td>\n",
       "      <td>1</td>\n",
       "    </tr>\n",
       "    <tr>\n",
       "      <th>4</th>\n",
       "      <td>Trump wants Postal Service to charge 'much mor...</td>\n",
       "      <td>politicsNews</td>\n",
       "      <td>1</td>\n",
       "    </tr>\n",
       "  </tbody>\n",
       "</table>\n",
       "</div>"
      ],
      "text/plain": [
       "                                               title       subject  label\n",
       "0  As U.S. budget fight looms, Republicans flip t...  politicsNews      1\n",
       "1  U.S. military to accept transgender recruits o...  politicsNews      1\n",
       "2  Senior U.S. Republican senator: 'Let Mr. Muell...  politicsNews      1\n",
       "3  FBI Russia probe helped by Australian diplomat...  politicsNews      1\n",
       "4  Trump wants Postal Service to charge 'much mor...  politicsNews      1"
      ]
     },
     "execution_count": 51,
     "metadata": {},
     "output_type": "execute_result"
    }
   ],
   "source": [
    "import pandas as pd\n",
    "\n",
    "# Load the datasets\n",
    "true_news = pd.read_csv(\"True.csv\")\n",
    "fake_news = pd.read_csv(\"Fake.csv\")\n",
    "\n",
    "# Add labels to the data (1 for true news, 0 for fake news)\n",
    "true_news[\"label\"] = 1\n",
    "fake_news[\"label\"] = 0\n",
    "\n",
    "# Combine the datasets\n",
    "data = pd.concat([true_news, fake_news], ignore_index=True)\n",
    "\n",
    "# Preprocess and clean the text data\n",
    "# You can use libraries like NLTK or spaCy for text preprocessing\n",
    "data.drop(columns = ['date'], inplace = True)\n",
    "data.drop(columns = ['text'], inplace = True)\n",
    "#data['title+text'] = data['title'] + ' ' + data['text']\n",
    "data.head()"
   ]
  },
  {
   "cell_type": "markdown",
   "id": "2d24e0ea",
   "metadata": {
    "scrolled": true
   },
   "source": [
    "# 2: Data Cleaning"
   ]
  },
  {
   "cell_type": "code",
   "execution_count": 52,
   "id": "a80802b5",
   "metadata": {},
   "outputs": [
    {
     "name": "stderr",
     "output_type": "stream",
     "text": [
      "[nltk_data] Downloading package stopwords to /Users/kjeks/nltk_data...\n",
      "[nltk_data]   Package stopwords is already up-to-date!\n"
     ]
    }
   ],
   "source": [
    "import nltk\n",
    "from nltk.corpus import stopwords\n",
    "import gensim\n",
    "from gensim.utils import simple_preprocess\n",
    "from gensim.parsing.preprocessing import STOPWORDS\n",
    "nltk.download(\"stopwords\")\n",
    "stop_words = stopwords.words('english')\n",
    "stop_words.extend(['re', 'edu', 'reuters'])\n",
    "\n",
    "# Removing Stopwords And Remove Words With 2 Or Less Characters\n",
    "def preprocess(text):\n",
    "    result = []\n",
    "    for token in gensim.utils.simple_preprocess(text):\n",
    "        if token not in gensim.parsing.preprocessing.STOPWORDS and len(token) > 3 and token not in stop_words:\n",
    "            result.append(token)\n",
    "            \n",
    "    return result\n",
    "\n",
    "data['cleaned'] = data['title'].apply(preprocess)"
   ]
  },
  {
   "cell_type": "code",
   "execution_count": 53,
   "id": "5c402d3c",
   "metadata": {},
   "outputs": [
    {
     "data": {
      "text/html": [
       "<div>\n",
       "<style scoped>\n",
       "    .dataframe tbody tr th:only-of-type {\n",
       "        vertical-align: middle;\n",
       "    }\n",
       "\n",
       "    .dataframe tbody tr th {\n",
       "        vertical-align: top;\n",
       "    }\n",
       "\n",
       "    .dataframe thead th {\n",
       "        text-align: right;\n",
       "    }\n",
       "</style>\n",
       "<table border=\"1\" class=\"dataframe\">\n",
       "  <thead>\n",
       "    <tr style=\"text-align: right;\">\n",
       "      <th></th>\n",
       "      <th>title</th>\n",
       "      <th>subject</th>\n",
       "      <th>label</th>\n",
       "      <th>cleaned</th>\n",
       "      <th>clean_joined</th>\n",
       "    </tr>\n",
       "  </thead>\n",
       "  <tbody>\n",
       "    <tr>\n",
       "      <th>0</th>\n",
       "      <td>As U.S. budget fight looms, Republicans flip t...</td>\n",
       "      <td>politicsNews</td>\n",
       "      <td>1</td>\n",
       "      <td>[budget, fight, looms, republicans, flip, fisc...</td>\n",
       "      <td>budget fight looms republicans flip fiscal script</td>\n",
       "    </tr>\n",
       "    <tr>\n",
       "      <th>1</th>\n",
       "      <td>U.S. military to accept transgender recruits o...</td>\n",
       "      <td>politicsNews</td>\n",
       "      <td>1</td>\n",
       "      <td>[military, accept, transgender, recruits, mond...</td>\n",
       "      <td>military accept transgender recruits monday pe...</td>\n",
       "    </tr>\n",
       "    <tr>\n",
       "      <th>2</th>\n",
       "      <td>Senior U.S. Republican senator: 'Let Mr. Muell...</td>\n",
       "      <td>politicsNews</td>\n",
       "      <td>1</td>\n",
       "      <td>[senior, republican, senator, mueller]</td>\n",
       "      <td>senior republican senator mueller</td>\n",
       "    </tr>\n",
       "    <tr>\n",
       "      <th>3</th>\n",
       "      <td>FBI Russia probe helped by Australian diplomat...</td>\n",
       "      <td>politicsNews</td>\n",
       "      <td>1</td>\n",
       "      <td>[russia, probe, helped, australian, diplomat]</td>\n",
       "      <td>russia probe helped australian diplomat</td>\n",
       "    </tr>\n",
       "    <tr>\n",
       "      <th>4</th>\n",
       "      <td>Trump wants Postal Service to charge 'much mor...</td>\n",
       "      <td>politicsNews</td>\n",
       "      <td>1</td>\n",
       "      <td>[trump, wants, postal, service, charge, amazon...</td>\n",
       "      <td>trump wants postal service charge amazon shipm...</td>\n",
       "    </tr>\n",
       "    <tr>\n",
       "      <th>...</th>\n",
       "      <td>...</td>\n",
       "      <td>...</td>\n",
       "      <td>...</td>\n",
       "      <td>...</td>\n",
       "      <td>...</td>\n",
       "    </tr>\n",
       "    <tr>\n",
       "      <th>44893</th>\n",
       "      <td>McPain: John McCain Furious That Iran Treated ...</td>\n",
       "      <td>Middle-east</td>\n",
       "      <td>0</td>\n",
       "      <td>[mcpain, john, mccain, furious, iran, treated,...</td>\n",
       "      <td>mcpain john mccain furious iran treated sailors</td>\n",
       "    </tr>\n",
       "    <tr>\n",
       "      <th>44894</th>\n",
       "      <td>JUSTICE? Yahoo Settles E-mail Privacy Class-ac...</td>\n",
       "      <td>Middle-east</td>\n",
       "      <td>0</td>\n",
       "      <td>[justice, yahoo, settles, mail, privacy, class...</td>\n",
       "      <td>justice yahoo settles mail privacy class actio...</td>\n",
       "    </tr>\n",
       "    <tr>\n",
       "      <th>44895</th>\n",
       "      <td>Sunnistan: US and Allied ‘Safe Zone’ Plan to T...</td>\n",
       "      <td>Middle-east</td>\n",
       "      <td>0</td>\n",
       "      <td>[sunnistan, allied, safe, zone, plan, territor...</td>\n",
       "      <td>sunnistan allied safe zone plan territorial bo...</td>\n",
       "    </tr>\n",
       "    <tr>\n",
       "      <th>44896</th>\n",
       "      <td>How to Blow $700 Million: Al Jazeera America F...</td>\n",
       "      <td>Middle-east</td>\n",
       "      <td>0</td>\n",
       "      <td>[blow, million, jazeera, america, finally, cal...</td>\n",
       "      <td>blow million jazeera america finally calls quits</td>\n",
       "    </tr>\n",
       "    <tr>\n",
       "      <th>44897</th>\n",
       "      <td>10 U.S. Navy Sailors Held by Iranian Military ...</td>\n",
       "      <td>Middle-east</td>\n",
       "      <td>0</td>\n",
       "      <td>[navy, sailors, held, iranian, military, signs...</td>\n",
       "      <td>navy sailors held iranian military signs neoco...</td>\n",
       "    </tr>\n",
       "  </tbody>\n",
       "</table>\n",
       "<p>44898 rows × 5 columns</p>\n",
       "</div>"
      ],
      "text/plain": [
       "                                                   title       subject  label  \\\n",
       "0      As U.S. budget fight looms, Republicans flip t...  politicsNews      1   \n",
       "1      U.S. military to accept transgender recruits o...  politicsNews      1   \n",
       "2      Senior U.S. Republican senator: 'Let Mr. Muell...  politicsNews      1   \n",
       "3      FBI Russia probe helped by Australian diplomat...  politicsNews      1   \n",
       "4      Trump wants Postal Service to charge 'much mor...  politicsNews      1   \n",
       "...                                                  ...           ...    ...   \n",
       "44893  McPain: John McCain Furious That Iran Treated ...   Middle-east      0   \n",
       "44894  JUSTICE? Yahoo Settles E-mail Privacy Class-ac...   Middle-east      0   \n",
       "44895  Sunnistan: US and Allied ‘Safe Zone’ Plan to T...   Middle-east      0   \n",
       "44896  How to Blow $700 Million: Al Jazeera America F...   Middle-east      0   \n",
       "44897  10 U.S. Navy Sailors Held by Iranian Military ...   Middle-east      0   \n",
       "\n",
       "                                                 cleaned  \\\n",
       "0      [budget, fight, looms, republicans, flip, fisc...   \n",
       "1      [military, accept, transgender, recruits, mond...   \n",
       "2                 [senior, republican, senator, mueller]   \n",
       "3          [russia, probe, helped, australian, diplomat]   \n",
       "4      [trump, wants, postal, service, charge, amazon...   \n",
       "...                                                  ...   \n",
       "44893  [mcpain, john, mccain, furious, iran, treated,...   \n",
       "44894  [justice, yahoo, settles, mail, privacy, class...   \n",
       "44895  [sunnistan, allied, safe, zone, plan, territor...   \n",
       "44896  [blow, million, jazeera, america, finally, cal...   \n",
       "44897  [navy, sailors, held, iranian, military, signs...   \n",
       "\n",
       "                                            clean_joined  \n",
       "0      budget fight looms republicans flip fiscal script  \n",
       "1      military accept transgender recruits monday pe...  \n",
       "2                      senior republican senator mueller  \n",
       "3                russia probe helped australian diplomat  \n",
       "4      trump wants postal service charge amazon shipm...  \n",
       "...                                                  ...  \n",
       "44893    mcpain john mccain furious iran treated sailors  \n",
       "44894  justice yahoo settles mail privacy class actio...  \n",
       "44895  sunnistan allied safe zone plan territorial bo...  \n",
       "44896   blow million jazeera america finally calls quits  \n",
       "44897  navy sailors held iranian military signs neoco...  \n",
       "\n",
       "[44898 rows x 5 columns]"
      ]
     },
     "execution_count": 53,
     "metadata": {},
     "output_type": "execute_result"
    }
   ],
   "source": [
    "list_of_words = []\n",
    "for i in data.cleaned:\n",
    "    for j in i:\n",
    "        list_of_words.append(j)\n",
    "total_words = len(list(set(list_of_words)))\n",
    "data['clean_joined'] = data['cleaned'].apply(lambda x: \" \".join(x))\n",
    "data"
   ]
  },
  {
   "cell_type": "markdown",
   "id": "f69e242e",
   "metadata": {
    "scrolled": true
   },
   "source": [
    "# 3: Visualization"
   ]
  },
  {
   "cell_type": "code",
   "execution_count": 54,
   "id": "bda73054",
   "metadata": {},
   "outputs": [
    {
     "data": {
      "image/png": "[encoded data removed]",
      "text/plain": [
       "<Figure size 800x800 with 1 Axes>"
      ]
     },
     "metadata": {},
     "output_type": "display_data"
    }
   ],
   "source": [
    "import matplotlib.pyplot as plt\n",
    "import seaborn as sns\n",
    "\n",
    "plt.figure(figsize = (8, 8))\n",
    "plt.title(\"Subject Wise News Count\")\n",
    "sns.countplot(y = \"subject\", data = data)\n",
    "plt.show()"
   ]
  },
  {
   "cell_type": "markdown",
   "id": "42094b29",
   "metadata": {
    "scrolled": true
   },
   "source": [
    "# 4: Tokenization And Padding"
   ]
  },
  {
   "cell_type": "code",
   "execution_count": 55,
   "id": "b82ea984",
   "metadata": {},
   "outputs": [],
   "source": [
    "from sklearn.model_selection import train_test_split\n",
    "from nltk import word_tokenize\n",
    "from tensorflow.keras.preprocessing.text import one_hot, Tokenizer\n",
    "from tensorflow.keras.preprocessing.sequence import pad_sequences\n",
    "x_train, x_test, y_train, y_test = train_test_split(data.clean_joined, data.label, test_size = 0.2)\n",
    "\n",
    "tokenizer = Tokenizer(num_words = total_words)\n",
    "tokenizer.fit_on_texts(x_train)\n",
    "train_sequences = tokenizer.texts_to_sequences(x_train)\n",
    "test_sequences = tokenizer.texts_to_sequences(x_test)\n",
    "\n",
    "padded_train = pad_sequences(train_sequences,maxlen = 40, padding = 'post', truncating = 'post')\n",
    "padded_test = pad_sequences(test_sequences,maxlen = 40, truncating = 'post') "
   ]
  },
  {
   "cell_type": "markdown",
   "id": "9edd96bc",
   "metadata": {
    "scrolled": true
   },
   "source": [
    "# 5: Building And Training The Model"
   ]
  },
  {
   "cell_type": "code",
   "execution_count": 56,
   "id": "ea6b29a0",
   "metadata": {},
   "outputs": [
    {
     "name": "stdout",
     "output_type": "stream",
     "text": [
      "Epoch 1/5\n",
      "506/506 [==============================] - 34s 60ms/step - loss: 0.1957 - acc: 0.9165 - val_loss: 0.1372 - val_acc: 0.9435\n",
      "Epoch 2/5\n",
      "506/506 [==============================] - 23s 46ms/step - loss: 0.0687 - acc: 0.9747 - val_loss: 0.1455 - val_acc: 0.9465\n",
      "Epoch 3/5\n",
      "506/506 [==============================] - 23s 45ms/step - loss: 0.0339 - acc: 0.9888 - val_loss: 0.1738 - val_acc: 0.9362\n",
      "Epoch 4/5\n",
      "506/506 [==============================] - 24s 47ms/step - loss: 0.0216 - acc: 0.9926 - val_loss: 0.2212 - val_acc: 0.9362\n",
      "Epoch 5/5\n",
      "506/506 [==============================] - 22s 43ms/step - loss: 0.0138 - acc: 0.9955 - val_loss: 0.2367 - val_acc: 0.9357\n"
     ]
    },
    {
     "data": {
      "text/plain": [
       "<keras.callbacks.History at 0x2d94552e0>"
      ]
     },
     "execution_count": 56,
     "metadata": {},
     "output_type": "execute_result"
    }
   ],
   "source": [
    "from tensorflow.keras.models import Sequential\n",
    "from tensorflow.keras.layers import Dense, Flatten, Embedding, Input, LSTM, Conv1D, MaxPool1D, Bidirectional\n",
    "from tensorflow.keras.models import Model\n",
    "import numpy as np\n",
    "\n",
    "model = Sequential()\n",
    "\n",
    "# Embeddidng layer\n",
    "model.add(Embedding(total_words, output_dim = 128))\n",
    "\n",
    "\n",
    "# Bi-Directional RNN and LSTM\n",
    "model.add(Bidirectional(LSTM(128)))\n",
    "\n",
    "# Dense layers\n",
    "model.add(Dense(128, activation = 'relu'))\n",
    "model.add(Dense(1,activation= 'sigmoid'))\n",
    "model.compile(optimizer='adam', loss='binary_crossentropy', metrics=['acc'])\n",
    "\n",
    "y_train = np.asarray(y_train)\n",
    "model.fit(padded_train, y_train, batch_size = 64, validation_split = 0.1, epochs = 5)"
   ]
  },
  {
   "cell_type": "code",
   "execution_count": 57,
   "id": "0b71e4c1",
   "metadata": {},
   "outputs": [
    {
     "name": "stdout",
     "output_type": "stream",
     "text": [
      "281/281 [==============================] - 3s 9ms/step\n",
      "Model Accuracy :  0.5242761692650334\n"
     ]
    }
   ],
   "source": [
    "pred = model.predict(padded_test)\n",
    "\n",
    "prediction = []\n",
    "for i in range(len(pred)):\n",
    "    if pred[i].item() > 0.95:\n",
    "        prediction.append(1)\n",
    "    else:\n",
    "        prediction.append(0)\n",
    "\n",
    "from sklearn.metrics import accuracy_score\n",
    "\n",
    "accuracy = accuracy_score(list(y_test), prediction)\n",
    "\n",
    "print(\"Model Accuracy : \", accuracy)"
   ]
  },
  {
   "cell_type": "markdown",
   "id": "646b6bf6",
   "metadata": {
    "scrolled": true
   },
   "source": [
    "# 6: Finding topics that indicate fake news (unfinished)"
   ]
  },
  {
   "cell_type": "code",
   "execution_count": 58,
   "id": "76e61fa9",
   "metadata": {
    "scrolled": true
   },
   "outputs": [],
   "source": [
    "from sklearn.feature_extraction.text import TfidfVectorizer\n",
    "\n",
    "# Create a TF-IDF vectorizer\n",
    "vectorizer = TfidfVectorizer(max_features=5000, stop_words='english')\n",
    "\n",
    "# Fit and transform the text data\n",
    "X = vectorizer.fit_transform(data['clean_joined']).toarray()\n",
    "y = data[\"label\"].values"
   ]
  },
  {
   "cell_type": "code",
   "execution_count": 59,
   "id": "837c10a5",
   "metadata": {},
   "outputs": [
    {
     "name": "stdout",
     "output_type": "stream",
     "text": [
      "C: 0.001, Validation accuracy: 0.5376391982182628\n",
      "C: 0.01, Validation accuracy: 0.8821826280623608\n",
      "C: 0.1, Validation accuracy: 0.9133630289532294\n",
      "C: 1.0, Validation accuracy: 0.9301781737193764\n",
      "C: 10.0, Validation accuracy: 0.9319599109131403\n",
      "C: 100.0, Validation accuracy: 0.9229398663697105\n",
      "C: 1000.0, Validation accuracy: 0.9121380846325167\n",
      "Best C: 10.0, Best validation accuracy: 0.9319599109131403\n",
      "Test accuracy: 0.9416481069042316\n"
     ]
    }
   ],
   "source": [
    "from sklearn.model_selection import train_test_split\n",
    "from sklearn.linear_model import LogisticRegression\n",
    "from sklearn.metrics import accuracy_score\n",
    "\n",
    "# Split the data into training and test sets (80/20)\n",
    "X_trainval, X_test, y_trainval, y_test = train_test_split(X, y, test_size=0.2, random_state=42)\n",
    "\n",
    "# Further split the training data into training and validation sets (75/25)\n",
    "X_train, X_val, y_train, y_val = train_test_split(X_trainval, y_trainval, test_size=0.25, random_state=42)\n",
    "\n",
    "model = LogisticRegression(max_iter=1000)\n",
    "model.fit(X_train, y_train)\n",
    "\n",
    "# Evaluate the model on the validation set\n",
    "y_val_pred = model.predict(X_val)\n",
    "val_accuracy = accuracy_score(y_val, y_val_pred)\n",
    "\n",
    "# Define a list of possible C values to try\n",
    "C_values = np.logspace(-3, 3, 7)\n",
    "\n",
    "# Initialize the best accuracy and best C value\n",
    "best_accuracy = 0\n",
    "best_C = None\n",
    "\n",
    "for C in C_values:\n",
    "    model = LogisticRegression(max_iter=1000, C=C)\n",
    "    model.fit(X_train, y_train)\n",
    "    \n",
    "    y_val_pred = model.predict(X_val)\n",
    "    val_accuracy = accuracy_score(y_val, y_val_pred)\n",
    "    \n",
    "    if val_accuracy > best_accuracy:\n",
    "        best_accuracy = val_accuracy\n",
    "        best_C = C\n",
    "\n",
    "    print(f\"C: {C}, Validation accuracy: {val_accuracy}\")\n",
    "\n",
    "print(f\"Best C: {best_C}, Best validation accuracy: {best_accuracy}\")\n",
    "\n",
    "# Train the model with the best hyperparameters\n",
    "best_model = LogisticRegression(max_iter=1000, C=best_C)\n",
    "best_model.fit(X_trainval, y_trainval)\n",
    "\n",
    "# Evaluate the model on the test set\n",
    "y_test_pred = best_model.predict(X_test)\n",
    "test_accuracy = accuracy_score(y_test, y_test_pred)\n",
    "print(f\"Test accuracy: {test_accuracy}\")\n"
   ]
  },
  {
   "cell_type": "code",
   "execution_count": 60,
   "id": "8aeeba9a",
   "metadata": {},
   "outputs": [
    {
     "name": "stdout",
     "output_type": "stream",
     "text": [
      "              precision    recall  f1-score   support\n",
      "\n",
      "           0       0.91      0.93      0.92      4650\n",
      "           1       0.92      0.90      0.91      4330\n",
      "\n",
      "    accuracy                           0.91      8980\n",
      "   macro avg       0.92      0.91      0.91      8980\n",
      "weighted avg       0.91      0.91      0.91      8980\n",
      "\n",
      "Top features for fake news:\n",
      "          feature  importance\n",
      "2910      myanmar   59.544105\n",
      "2676     malaysia   42.362283\n",
      "4668      turkish   41.976855\n",
      "1584      factbox   39.088349\n",
      "1504         euro   36.990675\n",
      "2542  legislature   34.128259\n",
      "3480       pursue   33.679752\n",
      "1483        envoy   33.357512\n",
      "3568      readies   32.847189\n",
      "534        brazil   32.414312\n",
      "Top features for true news:\n",
      "       feature  importance\n",
      "504       boom  -39.980633\n",
      "3875     saved  -40.174444\n",
      "1191      dems  -40.415969\n",
      "1228   destroy  -40.440540\n",
      "538   breaking  -44.059638\n",
      "4270     stein  -45.035978\n",
      "2156  illegals  -46.477883\n",
      "527      brags  -46.693376\n",
      "2518   leaking  -54.714373\n",
      "4779     video  -63.104236\n"
     ]
    }
   ],
   "source": [
    "from sklearn.metrics import classification_report\n",
    "\n",
    "# Make predictions\n",
    "y_pred = model.predict(X_test)\n",
    "\n",
    "# Evaluate the model\n",
    "print(classification_report(y_test, y_pred))\n",
    "\n",
    "# Investigate feature importance\n",
    "feature_importance = pd.DataFrame({\"feature\": vectorizer.get_feature_names_out(), \"importance\": model.coef_[0]})\n",
    "feature_importance = feature_importance.sort_values(\"importance\", ascending=False)\n",
    "\n",
    "print(\"Top features for fake news:\")\n",
    "print(feature_importance.head(10))\n",
    "\n",
    "print(\"Top features for true news:\")\n",
    "print(feature_importance.tail(10))\n"
   ]
  },
  {
   "cell_type": "code",
   "execution_count": 61,
   "id": "b35c7f8a",
   "metadata": {},
   "outputs": [
    {
     "name": "stdout",
     "output_type": "stream",
     "text": [
      "[[0. 0. 0. ... 0. 0. 0.]\n",
      " [0. 0. 0. ... 0. 0. 0.]\n",
      " [0. 0. 0. ... 0. 0. 0.]\n",
      " ...\n",
      " [0. 0. 0. ... 0. 0. 0.]\n",
      " [0. 0. 0. ... 0. 0. 0.]\n",
      " [0. 0. 0. ... 0. 0. 0.]]\n"
     ]
    }
   ],
   "source": [
    "print(X_test)"
   ]
  },
  {
   "cell_type": "code",
   "execution_count": null,
   "id": "3aee93d8",
   "metadata": {},
   "outputs": [],
   "source": []
  },
  {
   "cell_type": "code",
   "execution_count": null,
   "id": "53f02706",
   "metadata": {},
   "outputs": [],
   "source": []
  },
  {
   "cell_type": "code",
   "execution_count": null,
   "id": "0dfd170e",
   "metadata": {},
   "outputs": [],
   "source": []
  },
  {
   "cell_type": "code",
   "execution_count": null,
   "id": "cccd9a47",
   "metadata": {},
   "outputs": [],
   "source": []
  },
  {
   "cell_type": "code",
   "execution_count": null,
   "id": "536b9bb5",
   "metadata": {},
   "outputs": [],
   "source": []
  },
  {
   "cell_type": "code",
   "execution_count": null,
   "id": "7c0fce24",
   "metadata": {},
   "outputs": [],
   "source": []
  },
  {
   "cell_type": "code",
   "execution_count": null,
   "id": "b813603b",
   "metadata": {},
   "outputs": [],
   "source": []
  },
  {
   "cell_type": "code",
   "execution_count": null,
   "id": "2c9daeee",
   "metadata": {},
   "outputs": [],
   "source": []
  },
  {
   "cell_type": "code",
   "execution_count": null,
   "id": "e117d757",
   "metadata": {},
   "outputs": [],
   "source": []
  }
 ],
 "metadata": {
  "kernelspec": {
   "display_name": "Python 3 (ipykernel)",
   "language": "python",
   "name": "python3"
  },
  "language_info": {
   "codemirror_mode": {
    "name": "ipython",
    "version": 3
   },
   "file_extension": ".py",
   "mimetype": "text/x-python",
   "name": "python",
   "nbconvert_exporter": "python",
   "pygments_lexer": "ipython3",
   "version": "3.9.6"
  }
 },
 "nbformat": 4,
 "nbformat_minor": 5
}
