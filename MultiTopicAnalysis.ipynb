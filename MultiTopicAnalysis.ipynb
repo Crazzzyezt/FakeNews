{
 "cells": [
  {
   "attachments": {},
   "cell_type": "markdown",
   "metadata": {},
   "source": [
    "# Imports and setup"
   ]
  },
  {
   "attachments": {},
   "cell_type": "markdown",
   "metadata": {},
   "source": [
    "Adapted from Ola's Lab 4 work."
   ]
  },
  {
   "cell_type": "code",
   "execution_count": 2,
   "metadata": {},
   "outputs": [],
   "source": [
    "import numpy as np\n",
    "import pandas as pd\n",
    "import nltk\n",
    "import gensim\n",
    "from nltk.stem import SnowballStemmer\n",
    "from gensim.utils import simple_preprocess\n",
    "from gensim.parsing.preprocessing \\\n",
    "import STOPWORDS as stopwords\n",
    "import pyLDAvis\n",
    "import pyLDAvis.gensim_models as gensimvis\n",
    "\n",
    "stemmer = SnowballStemmer(\"english\")"
   ]
  },
  {
   "attachments": {},
   "cell_type": "markdown",
   "metadata": {},
   "source": [
    "# Loading data "
   ]
  },
  {
   "cell_type": "code",
   "execution_count": 3,
   "metadata": {},
   "outputs": [
    {
     "data": {
      "text/html": [
       "<div>\n",
       "<style scoped>\n",
       "    .dataframe tbody tr th:only-of-type {\n",
       "        vertical-align: middle;\n",
       "    }\n",
       "\n",
       "    .dataframe tbody tr th {\n",
       "        vertical-align: top;\n",
       "    }\n",
       "\n",
       "    .dataframe thead th {\n",
       "        text-align: right;\n",
       "    }\n",
       "</style>\n",
       "<table border=\"1\" class=\"dataframe\">\n",
       "  <thead>\n",
       "    <tr style=\"text-align: right;\">\n",
       "      <th></th>\n",
       "      <th>title</th>\n",
       "      <th>text</th>\n",
       "      <th>subject</th>\n",
       "      <th>date</th>\n",
       "    </tr>\n",
       "  </thead>\n",
       "  <tbody>\n",
       "    <tr>\n",
       "      <th>0</th>\n",
       "      <td>Donald Trump Sends Out Embarrassing New Year’...</td>\n",
       "      <td>Donald Trump just couldn t wish all Americans ...</td>\n",
       "      <td>News</td>\n",
       "      <td>December 31, 2017</td>\n",
       "    </tr>\n",
       "    <tr>\n",
       "      <th>1</th>\n",
       "      <td>Drunk Bragging Trump Staffer Started Russian ...</td>\n",
       "      <td>House Intelligence Committee Chairman Devin Nu...</td>\n",
       "      <td>News</td>\n",
       "      <td>December 31, 2017</td>\n",
       "    </tr>\n",
       "    <tr>\n",
       "      <th>2</th>\n",
       "      <td>Sheriff David Clarke Becomes An Internet Joke...</td>\n",
       "      <td>On Friday, it was revealed that former Milwauk...</td>\n",
       "      <td>News</td>\n",
       "      <td>December 30, 2017</td>\n",
       "    </tr>\n",
       "    <tr>\n",
       "      <th>3</th>\n",
       "      <td>Trump Is So Obsessed He Even Has Obama’s Name...</td>\n",
       "      <td>On Christmas day, Donald Trump announced that ...</td>\n",
       "      <td>News</td>\n",
       "      <td>December 29, 2017</td>\n",
       "    </tr>\n",
       "    <tr>\n",
       "      <th>4</th>\n",
       "      <td>Pope Francis Just Called Out Donald Trump Dur...</td>\n",
       "      <td>Pope Francis used his annual Christmas Day mes...</td>\n",
       "      <td>News</td>\n",
       "      <td>December 25, 2017</td>\n",
       "    </tr>\n",
       "    <tr>\n",
       "      <th>...</th>\n",
       "      <td>...</td>\n",
       "      <td>...</td>\n",
       "      <td>...</td>\n",
       "      <td>...</td>\n",
       "    </tr>\n",
       "    <tr>\n",
       "      <th>23476</th>\n",
       "      <td>McPain: John McCain Furious That Iran Treated ...</td>\n",
       "      <td>21st Century Wire says As 21WIRE reported earl...</td>\n",
       "      <td>Middle-east</td>\n",
       "      <td>January 16, 2016</td>\n",
       "    </tr>\n",
       "    <tr>\n",
       "      <th>23477</th>\n",
       "      <td>JUSTICE? Yahoo Settles E-mail Privacy Class-ac...</td>\n",
       "      <td>21st Century Wire says It s a familiar theme. ...</td>\n",
       "      <td>Middle-east</td>\n",
       "      <td>January 16, 2016</td>\n",
       "    </tr>\n",
       "    <tr>\n",
       "      <th>23478</th>\n",
       "      <td>Sunnistan: US and Allied ‘Safe Zone’ Plan to T...</td>\n",
       "      <td>Patrick Henningsen  21st Century WireRemember ...</td>\n",
       "      <td>Middle-east</td>\n",
       "      <td>January 15, 2016</td>\n",
       "    </tr>\n",
       "    <tr>\n",
       "      <th>23479</th>\n",
       "      <td>How to Blow $700 Million: Al Jazeera America F...</td>\n",
       "      <td>21st Century Wire says Al Jazeera America will...</td>\n",
       "      <td>Middle-east</td>\n",
       "      <td>January 14, 2016</td>\n",
       "    </tr>\n",
       "    <tr>\n",
       "      <th>23480</th>\n",
       "      <td>10 U.S. Navy Sailors Held by Iranian Military ...</td>\n",
       "      <td>21st Century Wire says As 21WIRE predicted in ...</td>\n",
       "      <td>Middle-east</td>\n",
       "      <td>January 12, 2016</td>\n",
       "    </tr>\n",
       "  </tbody>\n",
       "</table>\n",
       "<p>23481 rows × 4 columns</p>\n",
       "</div>"
      ],
      "text/plain": [
       "                                                   title  \\\n",
       "0       Donald Trump Sends Out Embarrassing New Year’...   \n",
       "1       Drunk Bragging Trump Staffer Started Russian ...   \n",
       "2       Sheriff David Clarke Becomes An Internet Joke...   \n",
       "3       Trump Is So Obsessed He Even Has Obama’s Name...   \n",
       "4       Pope Francis Just Called Out Donald Trump Dur...   \n",
       "...                                                  ...   \n",
       "23476  McPain: John McCain Furious That Iran Treated ...   \n",
       "23477  JUSTICE? Yahoo Settles E-mail Privacy Class-ac...   \n",
       "23478  Sunnistan: US and Allied ‘Safe Zone’ Plan to T...   \n",
       "23479  How to Blow $700 Million: Al Jazeera America F...   \n",
       "23480  10 U.S. Navy Sailors Held by Iranian Military ...   \n",
       "\n",
       "                                                    text      subject  \\\n",
       "0      Donald Trump just couldn t wish all Americans ...         News   \n",
       "1      House Intelligence Committee Chairman Devin Nu...         News   \n",
       "2      On Friday, it was revealed that former Milwauk...         News   \n",
       "3      On Christmas day, Donald Trump announced that ...         News   \n",
       "4      Pope Francis used his annual Christmas Day mes...         News   \n",
       "...                                                  ...          ...   \n",
       "23476  21st Century Wire says As 21WIRE reported earl...  Middle-east   \n",
       "23477  21st Century Wire says It s a familiar theme. ...  Middle-east   \n",
       "23478  Patrick Henningsen  21st Century WireRemember ...  Middle-east   \n",
       "23479  21st Century Wire says Al Jazeera America will...  Middle-east   \n",
       "23480  21st Century Wire says As 21WIRE predicted in ...  Middle-east   \n",
       "\n",
       "                    date  \n",
       "0      December 31, 2017  \n",
       "1      December 31, 2017  \n",
       "2      December 30, 2017  \n",
       "3      December 29, 2017  \n",
       "4      December 25, 2017  \n",
       "...                  ...  \n",
       "23476   January 16, 2016  \n",
       "23477   January 16, 2016  \n",
       "23478   January 15, 2016  \n",
       "23479   January 14, 2016  \n",
       "23480   January 12, 2016  \n",
       "\n",
       "[23481 rows x 4 columns]"
      ]
     },
     "execution_count": 3,
     "metadata": {},
     "output_type": "execute_result"
    }
   ],
   "source": [
    "# Loading the data\n",
    "df_fake = pd.read_csv('Fake.csv', sep=',')\n",
    "df_real = pd.read_csv('True.csv', sep=',')\n",
    "\n",
    "df_fake"
   ]
  },
  {
   "attachments": {},
   "cell_type": "markdown",
   "metadata": {},
   "source": [
    "# Preprocessing "
   ]
  },
  {
   "cell_type": "code",
   "execution_count": 4,
   "metadata": {},
   "outputs": [],
   "source": [
    "# Preprocessing functions\n",
    "def stem(text):\n",
    "\treturn stemmer.stem(text)\n",
    "\n",
    "def preprocess(text):\n",
    "\tresult = []\n",
    "\tfor token in gensim.utils.simple_preprocess(text, min_len=4):\n",
    "\t\tif token not in stopwords:\n",
    "\t\t\tresult.append(stem(token))\n",
    "\treturn result\n",
    "\n",
    "def run_processing_on(name, data):\n",
    "\tprint(\"Preprocessing dataset:\", name, \"...\")\n",
    "\t# Preprocessing step\n",
    "\tprocessed_docs = []\n",
    "\n",
    "\tfor i in range(0, len(data)):\n",
    "\t\tprocessed_docs.append(preprocess(data[i]))\n",
    "\n",
    "\tprint(\"Total documents:\", len(processed_docs))\n",
    "\n",
    "\tdictionary = gensim.corpora.Dictionary(processed_docs)\n",
    "\tprint(\"Dictionary size:\", len(dictionary))\n",
    "\n",
    "\tdictionary.filter_extremes(no_below=10, no_above=0.5, keep_n=10000)\n",
    "\tprint(\"Dictionary after filtering extremes:\", len(dictionary))\n",
    "\t\n",
    "\tbow_corpus = [dictionary.doc2bow(doc) for doc in processed_docs]\n",
    "\tid2word = dictionary\n",
    "\tcorpus = bow_corpus\n",
    "\t\n",
    "\tprint(\"Done!\")\n",
    "\t\n",
    "\treturn (bow_corpus, id2word, corpus)"
   ]
  },
  {
   "cell_type": "code",
   "execution_count": 5,
   "metadata": {},
   "outputs": [
    {
     "name": "stdout",
     "output_type": "stream",
     "text": [
      "Preprocessing dataset: Real news ...\n",
      "Total documents: 21417\n",
      "Dictionary size: 8119\n",
      "Dictionary after filtering extremes: 2078\n",
      "Done!\n",
      "Preprocessing dataset: Fake news ...\n",
      "Total documents: 23481\n",
      "Dictionary size: 9085\n",
      "Dictionary after filtering extremes: 2856\n",
      "Done!\n"
     ]
    }
   ],
   "source": [
    "real_bow_corpus, real_id2word, real_corpus = run_processing_on(\"Real news\", df_real.loc[0:, 'title'].tolist())\n",
    "fake_bow_corpus, fake_id2word, fake_corpus = run_processing_on(\"Fake news\", df_fake.loc[0:, 'title'].tolist())"
   ]
  },
  {
   "attachments": {},
   "cell_type": "markdown",
   "metadata": {},
   "source": [
    "# Models and topic analysis\n",
    "## Real news"
   ]
  },
  {
   "attachments": {},
   "cell_type": "markdown",
   "metadata": {},
   "source": [
    "Using an LDA model to find topics in the real news dataset."
   ]
  },
  {
   "cell_type": "code",
   "execution_count": 6,
   "metadata": {},
   "outputs": [],
   "source": [
    "real_lda_model = gensim.models.ldamodel.LdaModel(corpus=real_corpus,\n",
    "\t\t\t\t\t\t\t\t\t\t\tid2word=real_id2word,\n",
    "\t\t\t\t\t\t\t\t\t\t\tnum_topics=4,\n",
    "\t\t\t\t\t\t\t\t\t\t\trandom_state=100,\n",
    "\t\t\t\t\t\t\t\t\t\t\tupdate_every=1,\n",
    "\t\t\t\t\t\t\t\t\t\t\tchunksize=1000,\n",
    "\t\t\t\t\t\t\t\t\t\t\tpasses=10,\n",
    "\t\t\t\t\t\t\t\t\t\t\talpha='symmetric',\n",
    "\t\t\t\t\t\t\t\t\t\t\titerations=100,\n",
    "\t\t\t\t\t\t\t\t\t\t\tper_word_topics=True)"
   ]
  },
  {
   "attachments": {},
   "cell_type": "markdown",
   "metadata": {},
   "source": [
    "### Visualisation"
   ]
  },
  {
   "cell_type": "code",
   "execution_count": 8,
   "metadata": {},
   "outputs": [
    {
     "name": "stderr",
     "output_type": "stream",
     "text": [
      "/Users/kjeks/Library/Python/3.9/lib/python/site-packages/pyLDAvis/_prepare.py:243: FutureWarning: In a future version of pandas all arguments of DataFrame.drop except for the argument 'labels' will be keyword-only.\n",
      "  default_term_info = default_term_info.sort_values(\n"
     ]
    },
    {
     "data": {
      "text/html": [
       "\n",
       "<link rel=\"stylesheet\" type=\"text/css\" href=\"https://cdn.jsdelivr.net/gh/bmabey/pyLDAvis@3.4.0/pyLDAvis/js/ldavis.v1.0.0.css\">\n",
       "\n",
       "\n",
       "<div id=\"ldavis_el52360107703199524529248385\" style=\"background-color:white;\"></div>\n",
       "<script type=\"text/javascript\">\n",
       "\n",
       "var ldavis_el52360107703199524529248385_data = {\"mdsDat\": {\"x\": [-0.1599438837568996, -0.06984539837176651, 0.3651172902544035, -0.13532800812573748], \"y\": [-0.048154926869810294, -0.26845775728633436, 0.03275870293519967, 0.28385398122094474], \"topics\": [1, 2, 3, 4], \"cluster\": [1, 1, 1, 1], \"Freq\": [29.043262341762322, 27.206302193950904, 22.68984244054825, 21.060593023738523]}, \"tinfo\": {\"Term\": [\"korea\", \"north\", \"china\", \"iran\", \"court\", \"vote\", \"minist\", \"elect\", \"russia\", \"south\", \"parti\", \"myanmar\", \"brexit\", \"turkey\", \"syria\", \"kill\", \"right\", \"state\", \"rohingya\", \"franc\", \"talk\", \"secur\", \"islam\", \"border\", \"opposit\", \"irma\", \"saudi\", \"britain\", \"militari\", \"coalit\", \"vote\", \"elect\", \"parti\", \"myanmar\", \"right\", \"rohingya\", \"islam\", \"opposit\", \"crisi\", \"independ\", \"senat\", \"armi\", \"anti\", \"republican\", \"clinton\", \"amid\", \"presidenti\", \"referendum\", \"milit\", \"violenc\", \"democrat\", \"pakistan\", \"alli\", \"bangladesh\", \"muslim\", \"governor\", \"citi\", \"kenya\", \"soldier\", \"start\", \"state\", \"leader\", \"refuge\", \"fight\", \"parliament\", \"govern\", \"urg\", \"trump\", \"attack\", \"say\", \"presid\", \"minist\", \"south\", \"saudi\", \"britain\", \"militari\", \"germani\", \"foreign\", \"protest\", \"iraq\", \"arrest\", \"white\", \"bomb\", \"poll\", \"strike\", \"agre\", \"defens\", \"spain\", \"british\", \"catalonia\", \"london\", \"zimbabw\", \"nation\", \"brazil\", \"detain\", \"close\", \"peopl\", \"yemen\", \"reject\", \"work\", \"pressur\", \"talk\", \"polic\", \"say\", \"hous\", \"trump\", \"merkel\", \"leader\", \"presid\", \"meet\", \"german\", \"attack\", \"korea\", \"north\", \"russia\", \"brexit\", \"syria\", \"turkey\", \"forc\", \"russian\", \"sanction\", \"korean\", \"test\", \"putin\", \"iraqi\", \"dead\", \"kurdish\", \"philippin\", \"suspect\", \"warn\", \"peac\", \"erdogan\", \"rebel\", \"india\", \"region\", \"tie\", \"trade\", \"lebanon\", \"egypt\", \"diplomat\", \"israel\", \"china\", \"missil\", \"kill\", \"say\", \"japan\", \"syrian\", \"nuclear\", \"trump\", \"offici\", \"deal\", \"visit\", \"iran\", \"court\", \"franc\", \"secur\", \"border\", \"coalit\", \"irma\", \"macron\", \"hurrican\", \"venezuela\", \"mexico\", \"turkish\", \"french\", \"jail\", \"case\", \"leav\", \"prosecutor\", \"florida\", \"activist\", \"readi\", \"puerto\", \"suprem\", \"east\", \"rico\", \"launch\", \"disput\", \"spanish\", \"unit\", \"libyan\", \"travel\", \"trial\", \"deal\", \"rule\", \"seek\", \"nuclear\", \"govern\", \"trump\", \"german\", \"say\", \"attack\", \"state\", \"power\"], \"Freq\": [1347.0, 1309.0, 819.0, 749.0, 707.0, 837.0, 767.0, 780.0, 634.0, 696.0, 718.0, 709.0, 575.0, 544.0, 533.0, 742.0, 545.0, 897.0, 526.0, 399.0, 686.0, 392.0, 463.0, 364.0, 460.0, 358.0, 429.0, 428.0, 426.0, 354.0, 836.3418545547892, 779.8640398245795, 717.3209524702095, 709.218950958518, 545.1544312736737, 526.0756409543113, 462.43912783310293, 459.30575987534075, 395.45088654155734, 373.57388663965344, 307.367886149307, 330.2445122426077, 281.10059314736515, 244.19616472726966, 230.80649196019036, 240.94433779836677, 237.84958363811603, 265.5471035383458, 275.9241419043513, 215.57476594483333, 204.62306978725175, 203.053750177498, 197.56062607990472, 178.36998391884958, 168.2030919842749, 160.38853670810198, 162.20028020134382, 159.76540858164128, 165.70548873934925, 154.06986442257278, 691.6556122864156, 515.2122203786984, 224.87189969142275, 222.15669442910456, 195.76624886679662, 289.17784500202623, 237.3856223431926, 425.6742795356622, 277.5631613141012, 391.5928645119374, 256.1703231930559, 766.799072018141, 695.428675703231, 428.35570008770753, 427.46735892607416, 425.7437078577166, 365.15086565351555, 357.44953017897194, 364.2580601260353, 337.753187734688, 318.1842150008554, 282.67030306182306, 307.80527464675225, 265.44133445085214, 270.551815791271, 260.065865940655, 237.43464262440526, 231.28570582074988, 211.90819350403464, 210.78757003454714, 185.7105168322913, 175.71728754107735, 177.04078599944998, 180.7228562840932, 170.04049124668873, 167.31470841903106, 168.44317834970408, 163.57390804883326, 168.5831801862449, 160.9368714028601, 161.9449387394794, 585.8163862596608, 516.753255384735, 914.764457885104, 298.94705964069146, 604.4311684356179, 262.30281761854997, 353.81090290895287, 302.4472577485022, 220.420690724585, 228.14277535403085, 219.71286890164876, 1347.060385860417, 1308.8718407221156, 633.8365537753949, 574.8018923802078, 532.3250703768693, 543.7019000396889, 367.76966652193016, 347.6601324454642, 322.55431241647113, 282.8223407510046, 291.4832880586163, 250.22182383232948, 253.85134000104645, 258.73023087679843, 239.5999387225824, 228.66510349827004, 224.2670613902559, 212.30510386338952, 201.83676034432617, 167.94860672398707, 164.04795644294398, 170.9033973685476, 154.55335459625755, 147.66513782269317, 143.42381052644328, 141.49731275043538, 135.68048823929973, 133.67238932030514, 132.6468183702794, 813.8131915407477, 263.4452425127466, 566.1268418677937, 1193.0407529467016, 233.29958583479646, 218.2990787300481, 235.23619560864768, 364.3014063969239, 205.38485871171886, 204.7645856613045, 171.4780183450166, 748.3545527282436, 706.3297916742413, 398.7202227397949, 391.77580612679066, 363.8452685717096, 354.04772056658123, 357.79820716636436, 302.61980272110986, 283.0134750439213, 257.4918289637198, 240.01250148436154, 253.55595440695828, 212.16432948677996, 204.38867788717997, 194.874304030149, 187.7637163448468, 182.6459771991971, 152.59346620631115, 146.07464860879062, 151.0788405761583, 135.28961715961032, 134.5626219909371, 139.71680514677095, 129.57999011149084, 138.9800182684649, 134.8388843439996, 138.33133059581232, 129.7704702810991, 129.4094468052125, 121.7158204095686, 123.76337423605996, 393.23196949060645, 301.7674265432615, 279.56257810544355, 303.9670791320838, 322.5444395044901, 542.1387392054776, 201.68209487652544, 300.048169890408, 207.79496233043233, 205.15163271676406, 154.97515557876162], \"Total\": [1347.0, 1309.0, 819.0, 749.0, 707.0, 837.0, 767.0, 780.0, 634.0, 696.0, 718.0, 709.0, 575.0, 544.0, 533.0, 742.0, 545.0, 897.0, 526.0, 399.0, 686.0, 392.0, 463.0, 364.0, 460.0, 358.0, 429.0, 428.0, 426.0, 354.0, 837.0791158181369, 780.6001108791185, 718.0712828567696, 709.9748296633237, 545.9073810567882, 526.8162401461764, 463.18864790570433, 460.05452332803776, 396.2342635378633, 374.36163992790387, 308.0876973904314, 331.0269145993726, 281.8547218564242, 244.91327219132705, 231.5317832873936, 241.72095564464834, 238.64746386965493, 266.4432044973481, 276.86256235425327, 216.3154823644756, 205.34389584891954, 203.82131632580663, 198.32772548365233, 179.1084582164836, 168.94285979958764, 161.1156718584534, 162.94758837928725, 160.5255696375641, 166.53504269974547, 154.86072814411543, 897.2876573151152, 869.5338015318754, 295.5082525610248, 321.17317198817375, 244.4263936632642, 612.2156247001221, 400.51877483777076, 1936.5455935736818, 705.352483424082, 2799.446245234151, 685.5077110764745, 767.5851765757568, 696.2938688178488, 429.13208875034286, 428.26348001373685, 426.55312145515967, 365.9560013839392, 358.2395625750745, 365.06799538427293, 338.5824903208584, 318.9731334941442, 283.4246675082516, 308.68961133957225, 266.2382708170698, 271.40221044934844, 260.89382310484365, 238.22428349812196, 232.0742950670047, 212.69328287197442, 211.61943252353979, 186.50872992658876, 176.48881767348982, 177.82266781697538, 181.5311764469285, 170.84149641299973, 168.1124665513487, 169.24835055157925, 164.3573163909136, 169.3914619609908, 161.71254971423707, 162.7392436700092, 686.344504431739, 675.2162968815302, 2799.446245234151, 466.32596908598526, 1936.5455935736818, 403.69690233820154, 869.5338015318754, 685.5077110764745, 341.8241075536154, 578.836215427356, 705.352483424082, 1347.861989933464, 1309.6698655875714, 634.6354111860328, 575.6526508657964, 533.1319515772401, 544.5291256646452, 368.6076974801174, 348.4673721750335, 323.36301916202643, 283.62384145901297, 292.31865842827995, 251.0183893177051, 254.68086524617576, 259.5928077537277, 240.43001002336152, 229.493617185783, 225.09461448689012, 213.1128880782599, 202.6513908107729, 168.75576798982843, 164.85673977139297, 171.75373331197986, 155.39095472408079, 148.46860022803293, 144.25598464853013, 142.3223699209594, 136.49576059303607, 134.47973900547174, 133.45190214492487, 819.2571472138931, 275.684198615664, 742.1598266393776, 2799.446245234151, 319.76359441227396, 340.8723672309705, 539.7370160228547, 1936.5455935736818, 421.3287956024657, 598.529856546595, 258.7405156222121, 749.1085144807162, 707.0664718143361, 399.47405935796866, 392.5404064363654, 364.6049096931792, 354.82657814013606, 358.6534714238882, 303.36265221083363, 283.7578359591361, 258.2448465529725, 240.7592809047677, 254.3469017650754, 212.910452482249, 205.1356983360994, 195.61363691530806, 188.52001375465898, 183.3937284121406, 153.35124170074334, 146.8232731712841, 151.85593634787526, 136.014209735073, 135.2854219610785, 140.48432265135702, 130.30414369541117, 139.76028194463316, 135.59814427726693, 139.11586609755855, 130.51762026018412, 130.18839310407932, 122.45059220207706, 124.51075787436739, 598.529856546595, 464.8995877542161, 422.8399898955122, 539.7370160228547, 612.2156247001221, 1936.5455935736818, 578.836215427356, 2799.446245234151, 705.352483424082, 897.2876573151152, 296.66657179742765], \"Category\": [\"Default\", \"Default\", \"Default\", \"Default\", \"Default\", \"Default\", \"Default\", \"Default\", \"Default\", \"Default\", \"Default\", \"Default\", \"Default\", \"Default\", \"Default\", \"Default\", \"Default\", \"Default\", \"Default\", \"Default\", \"Default\", \"Default\", \"Default\", \"Default\", \"Default\", \"Default\", \"Default\", \"Default\", \"Default\", \"Default\", \"Topic1\", \"Topic1\", \"Topic1\", \"Topic1\", \"Topic1\", \"Topic1\", \"Topic1\", \"Topic1\", \"Topic1\", \"Topic1\", \"Topic1\", \"Topic1\", \"Topic1\", \"Topic1\", \"Topic1\", \"Topic1\", \"Topic1\", \"Topic1\", \"Topic1\", \"Topic1\", \"Topic1\", \"Topic1\", \"Topic1\", \"Topic1\", \"Topic1\", \"Topic1\", \"Topic1\", \"Topic1\", \"Topic1\", \"Topic1\", \"Topic1\", \"Topic1\", \"Topic1\", \"Topic1\", \"Topic1\", \"Topic1\", \"Topic1\", \"Topic1\", \"Topic1\", \"Topic1\", \"Topic1\", \"Topic2\", \"Topic2\", \"Topic2\", \"Topic2\", \"Topic2\", \"Topic2\", \"Topic2\", \"Topic2\", \"Topic2\", \"Topic2\", \"Topic2\", \"Topic2\", \"Topic2\", \"Topic2\", \"Topic2\", \"Topic2\", \"Topic2\", \"Topic2\", \"Topic2\", \"Topic2\", \"Topic2\", \"Topic2\", \"Topic2\", \"Topic2\", \"Topic2\", \"Topic2\", \"Topic2\", \"Topic2\", \"Topic2\", \"Topic2\", \"Topic2\", \"Topic2\", \"Topic2\", \"Topic2\", \"Topic2\", \"Topic2\", \"Topic2\", \"Topic2\", \"Topic2\", \"Topic2\", \"Topic2\", \"Topic3\", \"Topic3\", \"Topic3\", \"Topic3\", \"Topic3\", \"Topic3\", \"Topic3\", \"Topic3\", \"Topic3\", \"Topic3\", \"Topic3\", \"Topic3\", \"Topic3\", \"Topic3\", \"Topic3\", \"Topic3\", \"Topic3\", \"Topic3\", \"Topic3\", \"Topic3\", \"Topic3\", \"Topic3\", \"Topic3\", \"Topic3\", \"Topic3\", \"Topic3\", \"Topic3\", \"Topic3\", \"Topic3\", \"Topic3\", \"Topic3\", \"Topic3\", \"Topic3\", \"Topic3\", \"Topic3\", \"Topic3\", \"Topic3\", \"Topic3\", \"Topic3\", \"Topic3\", \"Topic4\", \"Topic4\", \"Topic4\", \"Topic4\", \"Topic4\", \"Topic4\", \"Topic4\", \"Topic4\", \"Topic4\", \"Topic4\", \"Topic4\", \"Topic4\", \"Topic4\", \"Topic4\", \"Topic4\", \"Topic4\", \"Topic4\", \"Topic4\", \"Topic4\", \"Topic4\", \"Topic4\", \"Topic4\", \"Topic4\", \"Topic4\", \"Topic4\", \"Topic4\", \"Topic4\", \"Topic4\", \"Topic4\", \"Topic4\", \"Topic4\", \"Topic4\", \"Topic4\", \"Topic4\", \"Topic4\", \"Topic4\", \"Topic4\", \"Topic4\", \"Topic4\", \"Topic4\", \"Topic4\", \"Topic4\"], \"logprob\": [30.0, 29.0, 28.0, 27.0, 26.0, 25.0, 24.0, 23.0, 22.0, 21.0, 20.0, 19.0, 18.0, 17.0, 16.0, 15.0, 14.0, 13.0, 12.0, 11.0, 10.0, 9.0, 8.0, 7.0, 6.0, 5.0, 4.0, 3.0, 2.0, 1.0, -3.8363, -3.9062, -3.9898, -4.0012, -4.2643, -4.2999, -4.4288, -4.4356, -4.5853, -4.6422, -4.8373, -4.7655, -4.9266, -5.0674, -5.1237, -5.0808, -5.0937, -4.9835, -4.9452, -5.192, -5.2442, -5.2519, -5.2793, -5.3815, -5.4402, -5.4877, -5.4765, -5.4916, -5.4551, -5.5279, -4.0262, -4.3207, -5.1498, -5.1619, -5.2884, -4.8983, -5.0956, -4.5116, -4.9393, -4.5951, -5.0195, -3.8578, -3.9555, -4.44, -4.4421, -4.4461, -4.5997, -4.621, -4.6021, -4.6777, -4.7374, -4.8557, -4.7705, -4.9186, -4.8995, -4.9391, -5.0301, -5.0563, -5.1438, -5.1491, -5.2758, -5.3311, -5.3236, -5.303, -5.3639, -5.3801, -5.3734, -5.4027, -5.3726, -5.419, -5.4127, -4.127, -4.2524, -3.6813, -4.7997, -4.0957, -4.9305, -4.6312, -4.7881, -5.1044, -5.07, -5.1077, -3.1128, -3.1415, -3.8667, -3.9644, -4.0412, -4.0201, -4.411, -4.4672, -4.5422, -4.6736, -4.6435, -4.7961, -4.7817, -4.7627, -4.8395, -4.8862, -4.9056, -4.9604, -5.011, -5.1948, -5.2183, -5.1774, -5.2779, -5.3235, -5.3527, -5.3662, -5.4082, -5.4231, -5.4308, -3.6167, -4.7446, -3.9796, -3.2342, -4.8661, -4.9326, -4.8579, -4.4205, -4.9936, -4.9966, -5.174, -3.6261, -3.6839, -4.2557, -4.2733, -4.3472, -4.3745, -4.364, -4.5315, -4.5984, -4.693, -4.7632, -4.7084, -4.8866, -4.9239, -4.9716, -5.0088, -5.0364, -5.2162, -5.2598, -5.2261, -5.3365, -5.3419, -5.3043, -5.3796, -5.3096, -5.3399, -5.3143, -5.3782, -5.381, -5.4423, -5.4256, -4.2695, -4.5343, -4.6107, -4.527, -4.4677, -3.9484, -4.9372, -4.54, -4.9074, -4.9202, -5.2007], \"loglift\": [30.0, 29.0, 28.0, 27.0, 26.0, 25.0, 24.0, 23.0, 22.0, 21.0, 20.0, 19.0, 18.0, 17.0, 16.0, 15.0, 14.0, 13.0, 12.0, 11.0, 10.0, 9.0, 8.0, 7.0, 6.0, 5.0, 4.0, 3.0, 2.0, 1.0, 1.2355, 1.2354, 1.2353, 1.2353, 1.235, 1.235, 1.2348, 1.2348, 1.2344, 1.2343, 1.234, 1.234, 1.2337, 1.2335, 1.2332, 1.2332, 1.233, 1.233, 1.233, 1.233, 1.2329, 1.2326, 1.2325, 1.2323, 1.232, 1.2319, 1.2318, 1.2316, 1.2314, 1.2313, 0.9761, 0.713, 0.9632, 0.8678, 1.0144, 0.4863, 0.7133, -0.2786, 0.3037, -0.7306, 0.2521, 1.3007, 1.3005, 1.2999, 1.2999, 1.2998, 1.2995, 1.2995, 1.2995, 1.2993, 1.2992, 1.2991, 1.2989, 1.2987, 1.2986, 1.2985, 1.2984, 1.2983, 1.298, 1.2978, 1.2974, 1.2973, 1.2973, 1.2973, 1.297, 1.297, 1.297, 1.2969, 1.2969, 1.2969, 1.2968, 1.1433, 1.0343, 0.1832, 0.8571, 0.1373, 0.8706, 0.4025, 0.4835, 0.863, 0.3707, 0.1353, 1.4827, 1.4826, 1.482, 1.4818, 1.4817, 1.4817, 1.481, 1.4809, 1.4807, 1.4804, 1.4804, 1.4801, 1.48, 1.4799, 1.4798, 1.4796, 1.4796, 1.4795, 1.4792, 1.4785, 1.4783, 1.4783, 1.4778, 1.4778, 1.4775, 1.4774, 1.4773, 1.4772, 1.4772, 1.4766, 1.4378, 1.2125, 0.6303, 1.168, 1.0376, 0.6528, -0.1874, 0.7647, 0.4106, 1.0719, 1.5568, 1.5567, 1.5559, 1.5558, 1.5557, 1.5556, 1.5554, 1.5553, 1.5551, 1.5548, 1.5547, 1.5547, 1.5543, 1.5541, 1.554, 1.5537, 1.5537, 1.5528, 1.5527, 1.5526, 1.5524, 1.5524, 1.5523, 1.5522, 1.5522, 1.5522, 1.5521, 1.552, 1.5518, 1.5517, 1.5517, 1.1377, 1.1256, 1.144, 0.9836, 0.9169, 0.2846, 0.5034, -0.6755, 0.3356, 0.0821, 0.9084]}, \"token.table\": {\"Topic\": [4, 2, 1, 1, 1, 1, 2, 1, 2, 4, 1, 2, 4, 2, 3, 2, 2, 4, 2, 2, 3, 1, 1, 2, 4, 4, 1, 3, 3, 4, 2, 1, 2, 3, 4, 4, 3, 1, 3, 1, 4, 4, 3, 2, 4, 4, 1, 2, 4, 2, 1, 4, 1, 1, 2, 4, 1, 3, 4, 2, 3, 4, 1, 3, 4, 2, 3, 1, 1, 3, 4, 3, 3, 3, 4, 1, 2, 4, 3, 4, 2, 4, 2, 3, 1, 2, 4, 1, 2, 2, 2, 3, 1, 1, 2, 3, 3, 4, 2, 3, 4, 1, 1, 1, 3, 1, 3, 2, 3, 2, 3, 2, 1, 2, 4, 1, 2, 3, 1, 2, 4, 2, 4, 3, 4, 3, 1, 1, 4, 3, 2, 1, 4, 1, 1, 1, 4, 3, 3, 3, 2, 1, 2, 3, 4, 4, 1, 4, 1, 1, 2, 2, 4, 1, 1, 4, 2, 4, 3, 3, 1, 3, 1, 2, 3, 3, 3, 4, 4, 1, 2, 3, 4, 3, 4, 4, 1, 3, 4, 1, 2, 3, 1, 3, 2, 2, 2, 2], \"Freq\": [0.9943927610827498, 0.9965739966772442, 0.9983475558807872, 0.9970174052856707, 0.9969675091806354, 0.9968977912245732, 0.9969491678390461, 0.3941291858085894, 0.311900794524783, 0.29488802391434027, 0.9938112458366213, 0.9977660040563735, 0.9983409173132413, 0.99707391062337, 0.9988662418824705, 0.9970497600829836, 0.9967404571380295, 0.9968630156619718, 0.9970728939391194, 0.006103089874777243, 0.9935830316137352, 0.9941847044886507, 0.9977031953028517, 0.9933826052631921, 0.9976704728702437, 0.9984916951137571, 0.996885015629787, 0.9977163937673879, 0.3425058879816147, 0.656608848667193, 0.9948607947093202, 0.9983252687035189, 0.9950744027026931, 0.9964326298591922, 0.9955888461419954, 0.9965524790082166, 0.9963679414592649, 0.9992312185576778, 0.9955215279523129, 0.6912158902493092, 0.30824492403009734, 0.9977095607648957, 0.9983513706190301, 0.9965398501322289, 0.9988132912591857, 0.995723777430209, 0.25741305749156174, 0.3938938060944703, 0.3489760913643991, 0.9973876603189348, 0.472055903737444, 0.5275918924124374, 0.9930753362128946, 0.3581185931534666, 0.6411823913346498, 0.9973292862324857, 0.9990339824134398, 0.9956115462677556, 0.998520221757879, 0.9982796206611085, 0.9973265944203635, 0.9981779866195247, 0.9974337715074003, 0.9966137451946236, 0.9944636728501606, 0.26894869054142373, 0.7286633127459503, 0.9967259444165142, 0.22906117240242996, 0.7626389622339727, 0.008084511967144587, 0.9993604761170641, 0.9978004618518534, 0.998211496046938, 0.9945601000938568, 0.5922713977222208, 0.40711470833721586, 0.9972415992111282, 0.9907086291375432, 0.9908717430506323, 0.9972723532738172, 0.9988045588071217, 0.6436058637715972, 0.35398322507437846, 0.34927193937662593, 0.6490017596927375, 0.9968463068093809, 0.9968845106867515, 0.9987032765033514, 0.9992376395563456, 0.04352806602720602, 0.9539901137629319, 0.9944190609730051, 0.9986269517980152, 0.9953736617098664, 0.9994885233254788, 0.43539722684139404, 0.5632372636586543, 0.2705725343006507, 0.4865558730845035, 0.23971777161724317, 0.9977078296711239, 0.9959704100600854, 0.801877395736652, 0.19637813773142498, 0.9985081107094165, 0.9967856583260208, 0.9926241493786445, 0.9978491027687999, 0.7656805713780188, 0.2339990914462804, 0.9953490126972744, 0.232584344039662, 0.24606749441877285, 0.5224720771905451, 0.3734458356390989, 0.4405493842304995, 0.18526414502408423, 0.9972869442685192, 0.995457495971235, 0.9978530977283161, 0.9970745302305979, 0.9925433545726695, 0.9959429692761825, 0.9943634976118783, 0.9948031255951015, 0.9983365892247684, 0.761400055836125, 0.2368800173712389, 0.9974840573907601, 0.9976890100807977, 0.9962710383836871, 0.9976658939095435, 0.9983378479788428, 0.9984506169628524, 0.3506133459644518, 0.6496026409893525, 0.9989987776054833, 0.9986587778014443, 0.9988773633949635, 0.9973619107495793, 0.14002769321516742, 0.3268503553364239, 0.42615570919820084, 0.10716405092997507, 0.998623310040178, 0.3381893941378077, 0.6621890234866165, 0.9964695202059529, 0.996787206517789, 0.99814177766631, 0.9953709002253157, 0.991978872512097, 0.9944419211091761, 0.7712131046922214, 0.22846630991604824, 0.9985180281004988, 0.9978902238176068, 0.9951370916208487, 0.9978767890877834, 0.35790522121534846, 0.6395355592208686, 0.1456994255134239, 0.8537986335086641, 0.9954889693481421, 0.9968437755369607, 0.9912933619247045, 0.9963202121445566, 0.9958978815719463, 0.21997932886974475, 0.31189557426602305, 0.18796355800137815, 0.27987980339765645, 0.9990282876714824, 0.9986361077620053, 0.9960340967054697, 0.5917325600928354, 0.40697218267988255, 0.9951795880166107, 0.9985415636410896, 0.3362442089550018, 0.6608937900150036, 0.9987108556434571, 0.9947779409856656, 0.998501656500173, 0.995593726550622, 0.9978259781872821, 0.9972303192919897], \"Term\": [\"activist\", \"agre\", \"alli\", \"amid\", \"anti\", \"armi\", \"arrest\", \"attack\", \"attack\", \"attack\", \"bangladesh\", \"bomb\", \"border\", \"brazil\", \"brexit\", \"britain\", \"british\", \"case\", \"catalonia\", \"china\", \"china\", \"citi\", \"clinton\", \"close\", \"coalit\", \"court\", \"crisi\", \"dead\", \"deal\", \"deal\", \"defens\", \"democrat\", \"detain\", \"diplomat\", \"disput\", \"east\", \"egypt\", \"elect\", \"erdogan\", \"fight\", \"fight\", \"florida\", \"forc\", \"foreign\", \"franc\", \"french\", \"german\", \"german\", \"german\", \"germani\", \"govern\", \"govern\", \"governor\", \"hous\", \"hous\", \"hurrican\", \"independ\", \"india\", \"iran\", \"iraq\", \"iraqi\", \"irma\", \"islam\", \"israel\", \"jail\", \"japan\", \"japan\", \"kenya\", \"kill\", \"kill\", \"kill\", \"korea\", \"korean\", \"kurdish\", \"launch\", \"leader\", \"leader\", \"leav\", \"lebanon\", \"libyan\", \"london\", \"macron\", \"meet\", \"meet\", \"merkel\", \"merkel\", \"mexico\", \"milit\", \"militari\", \"minist\", \"missil\", \"missil\", \"muslim\", \"myanmar\", \"nation\", \"north\", \"nuclear\", \"nuclear\", \"offici\", \"offici\", \"offici\", \"opposit\", \"pakistan\", \"parliament\", \"parliament\", \"parti\", \"peac\", \"peopl\", \"philippin\", \"polic\", \"polic\", \"poll\", \"power\", \"power\", \"power\", \"presid\", \"presid\", \"presid\", \"presidenti\", \"pressur\", \"prosecutor\", \"protest\", \"puerto\", \"putin\", \"readi\", \"rebel\", \"referendum\", \"refuge\", \"refuge\", \"region\", \"reject\", \"republican\", \"rico\", \"right\", \"rohingya\", \"rule\", \"rule\", \"russia\", \"russian\", \"sanction\", \"saudi\", \"say\", \"say\", \"say\", \"say\", \"secur\", \"seek\", \"seek\", \"senat\", \"soldier\", \"south\", \"spain\", \"spanish\", \"start\", \"state\", \"state\", \"strike\", \"suprem\", \"suspect\", \"syria\", \"syrian\", \"syrian\", \"talk\", \"talk\", \"test\", \"tie\", \"trade\", \"travel\", \"trial\", \"trump\", \"trump\", \"trump\", \"trump\", \"turkey\", \"turkish\", \"unit\", \"urg\", \"urg\", \"venezuela\", \"violenc\", \"visit\", \"visit\", \"vote\", \"warn\", \"white\", \"work\", \"yemen\", \"zimbabw\"]}, \"R\": 30, \"lambda.step\": 0.01, \"plot.opts\": {\"xlab\": \"PC1\", \"ylab\": \"PC2\"}, \"topic.order\": [3, 4, 2, 1]};\n",
       "\n",
       "function LDAvis_load_lib(url, callback){\n",
       "  var s = document.createElement('script');\n",
       "  s.src = url;\n",
       "  s.async = true;\n",
       "  s.onreadystatechange = s.onload = callback;\n",
       "  s.onerror = function(){console.warn(\"failed to load library \" + url);};\n",
       "  document.getElementsByTagName(\"head\")[0].appendChild(s);\n",
       "}\n",
       "\n",
       "if(typeof(LDAvis) !== \"undefined\"){\n",
       "   // already loaded: just create the visualization\n",
       "   !function(LDAvis){\n",
       "       new LDAvis(\"#\" + \"ldavis_el52360107703199524529248385\", ldavis_el52360107703199524529248385_data);\n",
       "   }(LDAvis);\n",
       "}else if(typeof define === \"function\" && define.amd){\n",
       "   // require.js is available: use it to load d3/LDAvis\n",
       "   require.config({paths: {d3: \"https://d3js.org/d3.v5\"}});\n",
       "   require([\"d3\"], function(d3){\n",
       "      window.d3 = d3;\n",
       "      LDAvis_load_lib(\"https://cdn.jsdelivr.net/gh/bmabey/pyLDAvis@3.4.0/pyLDAvis/js/ldavis.v3.0.0.js\", function(){\n",
       "        new LDAvis(\"#\" + \"ldavis_el52360107703199524529248385\", ldavis_el52360107703199524529248385_data);\n",
       "      });\n",
       "    });\n",
       "}else{\n",
       "    // require.js not available: dynamically load d3 & LDAvis\n",
       "    LDAvis_load_lib(\"https://d3js.org/d3.v5.js\", function(){\n",
       "         LDAvis_load_lib(\"https://cdn.jsdelivr.net/gh/bmabey/pyLDAvis@3.4.0/pyLDAvis/js/ldavis.v3.0.0.js\", function(){\n",
       "                 new LDAvis(\"#\" + \"ldavis_el52360107703199524529248385\", ldavis_el52360107703199524529248385_data);\n",
       "            })\n",
       "         });\n",
       "}\n",
       "</script>"
      ],
      "text/plain": [
       "<IPython.core.display.HTML object>"
      ]
     },
     "execution_count": 8,
     "metadata": {},
     "output_type": "execute_result"
    }
   ],
   "source": [
    "visualisation_real = gensimvis.prepare(real_lda_model, real_corpus, real_id2word)\n",
    "pyLDAvis.display(visualisation_real)"
   ]
  },
  {
   "attachments": {},
   "cell_type": "markdown",
   "metadata": {},
   "source": [
    "## Fake news"
   ]
  },
  {
   "attachments": {},
   "cell_type": "markdown",
   "metadata": {},
   "source": [
    "Using an LDA model to find topics in the fake news dataset."
   ]
  },
  {
   "cell_type": "code",
   "execution_count": 7,
   "metadata": {},
   "outputs": [],
   "source": [
    "fake_lda_model = gensim.models.ldamodel.LdaModel(corpus=fake_corpus,\n",
    "\t\t\t\t\t\t\t\t\t\t\tid2word=fake_id2word,\n",
    "\t\t\t\t\t\t\t\t\t\t\tnum_topics=5,\n",
    "\t\t\t\t\t\t\t\t\t\t\trandom_state=100,\n",
    "\t\t\t\t\t\t\t\t\t\t\tupdate_every=1,\n",
    "\t\t\t\t\t\t\t\t\t\t\tchunksize=1000,\n",
    "\t\t\t\t\t\t\t\t\t\t\tpasses=10,\n",
    "\t\t\t\t\t\t\t\t\t\t\talpha='symmetric',\n",
    "\t\t\t\t\t\t\t\t\t\t\titerations=100,\n",
    "\t\t\t\t\t\t\t\t\t\t\tper_word_topics=True)"
   ]
  },
  {
   "attachments": {},
   "cell_type": "markdown",
   "metadata": {},
   "source": [
    "### Visualisation"
   ]
  },
  {
   "cell_type": "code",
   "execution_count": 8,
   "metadata": {},
   "outputs": [
    {
     "name": "stderr",
     "output_type": "stream",
     "text": [
      "/Users/kjeks/Library/Python/3.9/lib/python/site-packages/pyLDAvis/_prepare.py:243: FutureWarning: In a future version of pandas all arguments of DataFrame.drop except for the argument 'labels' will be keyword-only.\n",
      "  default_term_info = default_term_info.sort_values(\n"
     ]
    },
    {
     "data": {
      "text/html": [
       "\n",
       "<link rel=\"stylesheet\" type=\"text/css\" href=\"https://cdn.jsdelivr.net/gh/bmabey/pyLDAvis@3.4.0/pyLDAvis/js/ldavis.v1.0.0.css\">\n",
       "\n",
       "\n",
       "<div id=\"ldavis_el1772455479636643919712004\" style=\"background-color:white;\"></div>\n",
       "<script type=\"text/javascript\">\n",
       "\n",
       "var ldavis_el1772455479636643919712004_data = {\"mdsDat\": {\"x\": [-0.06746345939506712, 0.10185650227946505, 0.1292991285012701, 0.1519280021368245, -0.31562017352249233], \"y\": [0.12036903742900976, -0.08001489131302728, 0.258501923276846, -0.23843217672698377, -0.06042389266584467], \"topics\": [1, 2, 3, 4, 5], \"cluster\": [1, 1, 1, 1, 1], \"Freq\": [24.233930773711098, 20.175679460015818, 19.472265471251138, 18.623049757594103, 17.49507453742784]}, \"tinfo\": {\"Term\": [\"clinton\", \"black\", \"room\", \"hillari\", \"boiler\", \"news\", \"liber\", \"white\", \"muslim\", \"polic\", \"live\", \"syria\", \"illeg\", \"trump\", \"fake\", \"presid\", \"speech\", \"watch\", \"refuge\", \"student\", \"year\", \"kill\", \"terror\", \"left\", \"sunday\", \"guest\", \"protest\", \"email\", \"colleg\", \"like\", \"clinton\", \"illeg\", \"expos\", \"hack\", \"berni\", \"email\", \"releas\", \"border\", \"sander\", \"alien\", \"fund\", \"iran\", \"stori\", \"deal\", \"polici\", \"home\", \"arm\", \"list\", \"press\", \"star\", \"taxpay\", \"mainstream\", \"wall\", \"remov\", \"high\", \"benghazi\", \"thing\", \"join\", \"crowd\", \"young\", \"hillari\", \"vote\", \"lie\", \"obama\", \"video\", \"plan\", \"trump\", \"break\", \"report\", \"media\", \"hous\", \"million\", \"state\", \"elect\", \"say\", \"presid\", \"room\", \"boiler\", \"liber\", \"refuge\", \"year\", \"student\", \"left\", \"parti\", \"wikileak\", \"justic\", \"girl\", \"mayor\", \"thug\", \"director\", \"cruz\", \"case\", \"look\", \"believ\", \"citizen\", \"femal\", \"violent\", \"episod\", \"syrian\", \"baltimor\", \"billion\", \"angri\", \"block\", \"univers\", \"riot\", \"tucker\", \"like\", \"school\", \"muslim\", \"work\", \"immigr\", \"video\", \"america\", \"trump\", \"watch\", \"want\", \"american\", \"state\", \"anti\", \"obama\", \"protest\", \"democrat\", \"presid\", \"media\", \"speech\", \"colleg\", \"free\", \"washington\", \"henningsen\", \"chang\", \"wire\", \"patrick\", \"foreign\", \"fight\", \"paul\", \"explain\", \"rape\", \"hilari\", \"brutal\", \"respons\", \"screen\", \"conspiraci\", \"john\", \"activist\", \"msnbc\", \"climat\", \"word\", \"class\", \"stage\", \"awesom\", \"friend\", \"best\", \"hammer\", \"emerg\", \"live\", \"trump\", \"presid\", \"donald\", \"destroy\", \"watch\", \"video\", \"tweet\", \"host\", \"hillari\", \"obama\", \"support\", \"american\", \"black\", \"polic\", \"syria\", \"kill\", \"nation\", \"women\", \"sunday\", \"shoot\", \"matter\", \"hollywood\", \"cop\", \"question\", \"order\", \"citi\", \"murder\", \"control\", \"boom\", \"shot\", \"chicago\", \"debat\", \"execut\", \"shooter\", \"beat\", \"wear\", \"global\", \"organ\", \"babi\", \"veteran\", \"florida\", \"mass\", \"secur\", \"white\", \"woman\", \"peopl\", \"flag\", \"protest\", \"video\", \"anti\", \"racist\", \"leftist\", \"muslim\", \"obama\", \"trump\", \"terrorist\", \"hillari\", \"watch\", \"hous\", \"terror\", \"guest\", \"govern\", \"court\", \"radic\", \"investig\", \"great\", \"play\", \"georg\", \"soro\", \"islam\", \"feder\", \"oregon\", \"suprem\", \"sexual\", \"bomb\", \"comey\", \"agent\", \"rule\", \"good\", \"target\", \"crimin\", \"iraq\", \"water\", \"assault\", \"bush\", \"fals\", \"christian\", \"oper\", \"jame\", \"news\", \"fake\", \"reveal\", \"campaign\", \"facebook\", \"russian\", \"secret\", \"trump\", \"right\", \"video\", \"polit\", \"break\", \"media\", \"judg\", \"democrat\", \"obama\", \"russia\", \"isi\", \"report\"], \"Freq\": [1374.0, 995.0, 1041.0, 2683.0, 966.0, 943.0, 611.0, 858.0, 971.0, 537.0, 808.0, 500.0, 576.0, 6034.0, 673.0, 1129.0, 458.0, 1298.0, 437.0, 434.0, 433.0, 396.0, 372.0, 381.0, 355.0, 340.0, 585.0, 404.0, 348.0, 377.0, 1372.7495357262694, 576.1322880708296, 378.86436909735545, 373.8495984117399, 361.89307533769704, 403.1647313852407, 355.82570423818277, 305.1710182315032, 296.6635778265345, 293.1037598844466, 282.22601630480887, 254.5768797392256, 251.94612827644184, 222.7311918179048, 226.6180245134976, 195.00495002888135, 197.48871826102715, 190.25194777304714, 185.67528511847, 187.39274467610088, 177.179524610958, 167.14123450427567, 157.59769545624022, 159.1917441433301, 154.07839915073097, 150.8680943086857, 147.80320642750448, 144.69880379745638, 142.69296041152938, 135.99146261877488, 1706.0408244713408, 463.06452610982427, 283.39299916276633, 1069.2988187132726, 1664.9347455141792, 312.9360915142149, 1437.2039534521832, 485.55325127610314, 338.22720893521296, 402.1143908748728, 292.2647315418584, 257.9699794515246, 299.55421819537094, 255.0527572470971, 233.6491214048839, 247.24355990732676, 1040.2194326979165, 965.7364774322048, 610.377533727314, 436.235051276129, 432.3680804650035, 433.41264282115014, 380.47109902110054, 289.84979133939134, 236.41616280845096, 213.30870882474952, 201.70723754287482, 196.78359599147643, 191.95439983626278, 188.2263773900568, 178.3423593126493, 177.09756153962107, 167.48089658372118, 166.6100802256446, 159.56706162992063, 155.77872080248264, 154.895842630988, 213.21159958405698, 144.2784290411952, 138.2653961699582, 131.70087297247866, 129.1446813137278, 116.01234702677142, 112.3402373728038, 113.18662273737027, 108.43304809809587, 368.1593312980968, 311.3290029672111, 636.808608755688, 234.96839126090023, 260.4840351927632, 1494.3601388805437, 380.57478404578774, 972.8433910395488, 431.8892590718018, 273.9811205803104, 335.38730041392205, 288.21871748445244, 254.29458316480674, 391.2384330346595, 243.44085117343613, 252.05084370136294, 210.33995657639244, 198.43396874788422, 457.68487428094863, 347.4715532104328, 322.3329939998865, 326.5003402747043, 338.79857121376307, 306.8305780453914, 311.11863410695383, 286.4133104834179, 257.5071820040198, 249.45858639160036, 241.04615343119875, 238.96861107086465, 237.64296087488114, 211.46927119489405, 212.70135961991846, 206.94617804037463, 215.16158112991906, 208.17959689796072, 196.00610300096847, 191.7992033256684, 172.8513086339764, 162.13275061608965, 158.54594038744204, 147.07579584511754, 142.299282255826, 140.77158609865143, 136.10492308979036, 135.36089665849022, 135.7843787365179, 134.95325391947387, 625.8113134814905, 2362.232634798417, 671.7579098719573, 367.7322792005883, 285.84580908058854, 624.8336253368411, 1804.5777274004074, 216.51013634054553, 242.06397029851937, 714.422508920948, 480.8857483595026, 272.1895121359691, 262.8457763823928, 995.1466192334857, 536.3222966075891, 499.9349375845183, 395.68749384285445, 332.61848109162196, 292.42530837266224, 353.99583442507793, 274.11515173144187, 266.96233143316636, 248.39358318383668, 244.66927252820568, 231.00313848719694, 229.90061212826575, 221.03278903772892, 210.47814532433637, 210.69443788623587, 184.6398073365643, 178.1060146653612, 176.3203930996106, 173.06534393589465, 170.15372519898673, 163.8619484120936, 158.6805559776755, 156.86587531107352, 152.68825987689445, 147.52444046086106, 143.30540291191804, 128.26277881146575, 119.8418382662415, 118.92662274466242, 210.80773399008797, 638.7907731456501, 279.0950218806654, 322.021641500425, 255.2980943250734, 341.4676822849859, 1341.8928785907667, 324.95145226615, 247.76516723187382, 219.8351757984969, 334.12896971493245, 492.9796675878298, 488.52375538011205, 235.5251816427695, 261.47941213926265, 230.66930272209012, 219.2114712037135, 371.41573063717385, 340.00705336251394, 295.5515734845965, 284.91532341212326, 233.0460739721949, 211.70787847683172, 199.92382547478712, 193.5131093869542, 182.89480559781344, 184.08132791635686, 173.52411579558992, 172.50662129774028, 174.34058284422957, 163.61704049891338, 160.99103564851774, 154.35974665438005, 146.94063035989114, 147.26455188974316, 140.85163895714587, 137.87446200985784, 137.74857957420548, 137.6923177336592, 133.67247141671805, 129.71819930066627, 128.7489950044569, 128.95948019344294, 128.9804229084209, 126.24267781054351, 127.08319707869892, 123.73901782959877, 745.3259785042878, 526.9905908985747, 286.63364369634706, 235.6506757394083, 168.20846220971325, 244.51273136559928, 236.08075656184437, 773.3520963595524, 210.8538066148726, 700.5190034640715, 212.4620585150934, 302.68954210905724, 269.98613175793844, 179.47435060623283, 236.5904407004481, 294.73370110143844, 189.82795075453754, 173.55220633268726, 178.4251795452734], \"Total\": [1374.0, 995.0, 1041.0, 2683.0, 966.0, 943.0, 611.0, 858.0, 971.0, 537.0, 808.0, 500.0, 576.0, 6034.0, 673.0, 1129.0, 458.0, 1298.0, 437.0, 434.0, 433.0, 396.0, 372.0, 381.0, 355.0, 340.0, 585.0, 404.0, 348.0, 377.0, 1374.280056945146, 576.9601427281972, 379.69960798038784, 374.68580022102975, 362.71728409967415, 404.1011906466361, 356.65385033849043, 306.00053405474677, 297.48539110225545, 293.930023105633, 283.05739024728854, 255.40139460254053, 252.7826875761069, 223.55576525618713, 227.46374469061132, 195.83810641278941, 198.34408491282406, 191.08131955045152, 186.50202663998178, 188.23102186995695, 178.0056231816995, 167.99293126232212, 158.4241464722143, 160.04269761235398, 154.9170381794478, 151.69859042273242, 148.62835520585097, 145.53846063646117, 143.52825127203192, 136.8361759065261, 2683.269427980453, 633.8679999079259, 363.8322539958476, 2729.1363687967028, 7006.284493849968, 483.50024601319285, 6034.155831029813, 1039.1845334665734, 633.0237180307686, 967.4593991924963, 512.1058481885239, 438.27607416650807, 671.4827434764995, 673.6402372035594, 579.06720578568, 1129.7400430247237, 1041.0640318342264, 966.6005458868658, 611.2138598373111, 437.0681185790471, 433.19875804630726, 434.2474634053939, 381.3087896801463, 290.686595080438, 237.2826393766917, 214.1530239597497, 202.5382901880938, 197.61867854022478, 192.8024237048157, 189.06740034041025, 179.1732006410628, 177.955982842132, 168.31220820604273, 167.4406947874218, 160.40794571502445, 156.61414512596178, 155.72986141032703, 214.4460624259879, 145.12271511277496, 139.10905587126723, 132.53786742734255, 129.98457895615593, 116.84284617075744, 113.17840343086687, 114.03113373577767, 109.26104091933836, 377.01440654645063, 368.08692686772787, 971.5740863476587, 288.7557376338456, 360.1254050159266, 7006.284493849968, 895.7783956350087, 6034.155831029813, 1298.3409644239634, 517.0778295262822, 953.6879065656112, 671.4827434764995, 601.8353884528885, 2729.1363687967028, 585.5451994250991, 871.3584688553838, 1129.7400430247237, 967.4593991924963, 458.4843511377036, 348.27794991549104, 323.14175001757866, 327.3247613659544, 339.67104422341407, 307.6342057306528, 311.97618000810195, 287.2735712301719, 258.31688046959863, 250.26631013900575, 241.84945475484398, 239.77360163358225, 238.4538488616292, 212.2639014786397, 213.50206398955027, 207.74220285703456, 215.99847091042176, 209.0162747686595, 196.80379116379757, 192.61326412147994, 173.65265153377084, 162.92968608374179, 159.34950810530418, 147.88549801981068, 143.10461140397385, 141.5725383388748, 136.90658943221646, 136.1586050844838, 136.58492052733405, 135.76937123721072, 808.3417674593238, 6034.155831029813, 1129.7400430247237, 523.1575888189816, 375.0080578151632, 1298.3409644239634, 7006.284493849968, 270.3217442926744, 328.03825245385053, 2683.269427980453, 2729.1363687967028, 835.0973377357296, 953.6879065656112, 995.9774775821242, 537.1568395472326, 500.8587206549966, 396.5208335312925, 333.45068487667163, 293.26088025201045, 355.0112540938467, 274.9518051461601, 267.7950057947066, 249.23668698147432, 245.50003966029655, 231.84063460340465, 230.73838229222306, 221.86548828158925, 211.31554784284208, 211.53693254339052, 185.48285905814032, 178.93989482184642, 177.15549110891368, 173.89849902992003, 170.99084823197026, 164.70816767337493, 159.5184318264431, 157.697400422378, 153.53348509639855, 148.36607457103105, 144.14275346763174, 129.09370048967122, 120.67570296773087, 119.76411530043468, 213.28838953907768, 858.4435302111913, 324.9275675495431, 408.36339686678474, 308.6131030277104, 585.5451994250991, 7006.284493849968, 601.8353884528885, 364.8752859567826, 311.61172618159685, 971.5740863476587, 2729.1363687967028, 6034.155831029813, 524.0376932464278, 2683.269427980453, 1298.3409644239634, 512.1058481885239, 372.2534950084453, 340.9071309641013, 296.3845139897926, 285.7436748838252, 233.88923691315748, 212.5378267111091, 200.76159121195363, 194.35111948356507, 183.72614476787143, 184.92086593661705, 174.3569800359154, 173.33503538127883, 175.18159685629664, 164.4430532697342, 161.81872879470072, 155.19184711691736, 147.76645592492736, 148.09711344961357, 141.6798928325127, 138.70598859672546, 138.58675407753847, 138.53027558861146, 134.51976491116966, 130.54614333226866, 129.57823641802563, 129.79739294033902, 129.82115991040928, 127.07229055003027, 127.91959570483567, 124.56751269552329, 943.9084536655237, 673.58123319218, 330.4247380027499, 326.13554138570095, 198.21119392641563, 384.0913140796793, 378.42812044253577, 6034.155831029813, 366.1864645091719, 7006.284493849968, 400.6279779118194, 1039.1845334665734, 967.4593991924963, 290.26497393166716, 871.3584688553838, 2729.1363687967028, 410.4314245574302, 359.61128563357914, 633.0237180307686], \"Category\": [\"Default\", \"Default\", \"Default\", \"Default\", \"Default\", \"Default\", \"Default\", \"Default\", \"Default\", \"Default\", \"Default\", \"Default\", \"Default\", \"Default\", \"Default\", \"Default\", \"Default\", \"Default\", \"Default\", \"Default\", \"Default\", \"Default\", \"Default\", \"Default\", \"Default\", \"Default\", \"Default\", \"Default\", \"Default\", \"Default\", \"Topic1\", \"Topic1\", \"Topic1\", \"Topic1\", \"Topic1\", \"Topic1\", \"Topic1\", \"Topic1\", \"Topic1\", \"Topic1\", \"Topic1\", \"Topic1\", \"Topic1\", \"Topic1\", \"Topic1\", \"Topic1\", \"Topic1\", \"Topic1\", \"Topic1\", \"Topic1\", \"Topic1\", \"Topic1\", \"Topic1\", \"Topic1\", \"Topic1\", \"Topic1\", \"Topic1\", \"Topic1\", \"Topic1\", \"Topic1\", \"Topic1\", \"Topic1\", \"Topic1\", \"Topic1\", \"Topic1\", \"Topic1\", \"Topic1\", \"Topic1\", \"Topic1\", \"Topic1\", \"Topic1\", \"Topic1\", \"Topic1\", \"Topic1\", \"Topic1\", \"Topic1\", \"Topic2\", \"Topic2\", \"Topic2\", \"Topic2\", \"Topic2\", \"Topic2\", \"Topic2\", \"Topic2\", \"Topic2\", \"Topic2\", \"Topic2\", \"Topic2\", \"Topic2\", \"Topic2\", \"Topic2\", \"Topic2\", \"Topic2\", \"Topic2\", \"Topic2\", \"Topic2\", \"Topic2\", \"Topic2\", \"Topic2\", \"Topic2\", \"Topic2\", \"Topic2\", \"Topic2\", \"Topic2\", \"Topic2\", \"Topic2\", \"Topic2\", \"Topic2\", \"Topic2\", \"Topic2\", \"Topic2\", \"Topic2\", \"Topic2\", \"Topic2\", \"Topic2\", \"Topic2\", \"Topic2\", \"Topic2\", \"Topic2\", \"Topic2\", \"Topic2\", \"Topic2\", \"Topic2\", \"Topic2\", \"Topic3\", \"Topic3\", \"Topic3\", \"Topic3\", \"Topic3\", \"Topic3\", \"Topic3\", \"Topic3\", \"Topic3\", \"Topic3\", \"Topic3\", \"Topic3\", \"Topic3\", \"Topic3\", \"Topic3\", \"Topic3\", \"Topic3\", \"Topic3\", \"Topic3\", \"Topic3\", \"Topic3\", \"Topic3\", \"Topic3\", \"Topic3\", \"Topic3\", \"Topic3\", \"Topic3\", \"Topic3\", \"Topic3\", \"Topic3\", \"Topic3\", \"Topic3\", \"Topic3\", \"Topic3\", \"Topic3\", \"Topic3\", \"Topic3\", \"Topic3\", \"Topic3\", \"Topic3\", \"Topic3\", \"Topic3\", \"Topic3\", \"Topic4\", \"Topic4\", \"Topic4\", \"Topic4\", \"Topic4\", \"Topic4\", \"Topic4\", \"Topic4\", \"Topic4\", \"Topic4\", \"Topic4\", \"Topic4\", \"Topic4\", \"Topic4\", \"Topic4\", \"Topic4\", \"Topic4\", \"Topic4\", \"Topic4\", \"Topic4\", \"Topic4\", \"Topic4\", \"Topic4\", \"Topic4\", \"Topic4\", \"Topic4\", \"Topic4\", \"Topic4\", \"Topic4\", \"Topic4\", \"Topic4\", \"Topic4\", \"Topic4\", \"Topic4\", \"Topic4\", \"Topic4\", \"Topic4\", \"Topic4\", \"Topic4\", \"Topic4\", \"Topic4\", \"Topic4\", \"Topic4\", \"Topic4\", \"Topic4\", \"Topic4\", \"Topic4\", \"Topic5\", \"Topic5\", \"Topic5\", \"Topic5\", \"Topic5\", \"Topic5\", \"Topic5\", \"Topic5\", \"Topic5\", \"Topic5\", \"Topic5\", \"Topic5\", \"Topic5\", \"Topic5\", \"Topic5\", \"Topic5\", \"Topic5\", \"Topic5\", \"Topic5\", \"Topic5\", \"Topic5\", \"Topic5\", \"Topic5\", \"Topic5\", \"Topic5\", \"Topic5\", \"Topic5\", \"Topic5\", \"Topic5\", \"Topic5\", \"Topic5\", \"Topic5\", \"Topic5\", \"Topic5\", \"Topic5\", \"Topic5\", \"Topic5\", \"Topic5\", \"Topic5\", \"Topic5\", \"Topic5\", \"Topic5\", \"Topic5\", \"Topic5\", \"Topic5\", \"Topic5\", \"Topic5\", \"Topic5\", \"Topic5\"], \"logprob\": [30.0, 29.0, 28.0, 27.0, 26.0, 25.0, 24.0, 23.0, 22.0, 21.0, 20.0, 19.0, 18.0, 17.0, 16.0, 15.0, 14.0, 13.0, 12.0, 11.0, 10.0, 9.0, 8.0, 7.0, 6.0, 5.0, 4.0, 3.0, 2.0, 1.0, -3.5554, -4.4237, -4.8428, -4.8562, -4.8887, -4.7807, -4.9056, -5.0591, -5.0874, -5.0995, -5.1373, -5.2404, -5.2508, -5.374, -5.3567, -5.507, -5.4943, -5.5317, -5.556, -5.5468, -5.6028, -5.6612, -5.72, -5.7099, -5.7425, -5.7636, -5.7841, -5.8054, -5.8193, -5.8674, -3.3381, -4.6421, -5.1332, -3.8053, -3.3625, -5.034, -3.5096, -4.5947, -4.9563, -4.7833, -5.1023, -5.2272, -5.0777, -5.2385, -5.3262, -5.2696, -3.6495, -3.7238, -4.1827, -4.5186, -4.5275, -4.525, -4.6553, -4.9274, -5.1311, -5.234, -5.2899, -5.3146, -5.3395, -5.3591, -5.413, -5.42, -5.4759, -5.4811, -5.5243, -5.5483, -5.554, -5.2344, -5.625, -5.6676, -5.7162, -5.7358, -5.843, -5.8752, -5.8677, -5.9106, -4.6882, -4.8559, -4.1403, -5.1373, -5.0342, -3.2873, -4.6551, -3.7165, -4.5286, -4.9837, -4.7814, -4.933, -5.0582, -4.6274, -5.1019, -5.0671, -5.248, -5.3063, -4.4351, -4.7106, -4.7857, -4.7728, -4.7358, -4.835, -4.8211, -4.9038, -5.0102, -5.042, -5.0763, -5.0849, -5.0905, -5.2072, -5.2014, -5.2288, -5.1899, -5.2228, -5.2831, -5.3048, -5.4088, -5.4728, -5.4952, -5.5703, -5.6033, -5.6141, -5.6478, -5.6533, -5.6502, -5.6563, -4.1222, -2.7939, -4.0513, -4.6539, -4.9058, -4.1238, -3.0632, -5.1836, -5.072, -3.9898, -4.3856, -4.9547, -4.9897, -3.6138, -4.2319, -4.3022, -4.536, -4.7097, -4.8384, -4.6474, -4.9031, -4.9295, -5.0016, -5.0167, -5.0742, -5.079, -5.1183, -5.1673, -5.1662, -5.2982, -5.3343, -5.3444, -5.363, -5.38, -5.4176, -5.4498, -5.4613, -5.4883, -5.5227, -5.5517, -5.6626, -5.7305, -5.7381, -5.1657, -4.0571, -4.8851, -4.742, -4.9742, -4.6834, -3.3148, -4.733, -5.0042, -5.1238, -4.7051, -4.3162, -4.3253, -5.0548, -4.9503, -5.0757, -5.1266, -4.5369, -4.6252, -4.7653, -4.802, -5.0029, -5.099, -5.1562, -5.1888, -5.2453, -5.2388, -5.2979, -5.3037, -5.2932, -5.3566, -5.3728, -5.4149, -5.4641, -5.4619, -5.5065, -5.5278, -5.5287, -5.5292, -5.5588, -5.5888, -5.5963, -5.5947, -5.5945, -5.616, -5.6093, -5.636, -3.8404, -4.187, -4.796, -4.9918, -5.329, -4.9549, -4.99, -3.8034, -5.103, -3.9024, -5.0954, -4.7415, -4.8558, -5.2641, -4.9878, -4.7681, -5.2081, -5.2977, -5.27], \"loglift\": [30.0, 29.0, 28.0, 27.0, 26.0, 25.0, 24.0, 23.0, 22.0, 21.0, 20.0, 19.0, 18.0, 17.0, 16.0, 15.0, 14.0, 13.0, 12.0, 11.0, 10.0, 9.0, 8.0, 7.0, 6.0, 5.0, 4.0, 3.0, 2.0, 1.0, 1.4163, 1.416, 1.4152, 1.4152, 1.4151, 1.4151, 1.4151, 1.4147, 1.4147, 1.4146, 1.4145, 1.4142, 1.4141, 1.4137, 1.4137, 1.4132, 1.4131, 1.4131, 1.413, 1.413, 1.4128, 1.4123, 1.4122, 1.4121, 1.412, 1.4119, 1.4118, 1.4116, 1.4116, 1.4112, 0.9646, 1.1034, 1.1676, 0.4804, -0.0196, 0.9824, -0.0173, 0.6565, 0.7906, 0.5395, 0.8565, 0.8874, 0.6102, 0.4462, 0.5098, -0.102, 1.5999, 1.5998, 1.5993, 1.5988, 1.5988, 1.5988, 1.5985, 1.5978, 1.597, 1.5967, 1.5966, 1.5965, 1.5963, 1.5962, 1.596, 1.5959, 1.5957, 1.5957, 1.5954, 1.5953, 1.5953, 1.5949, 1.5949, 1.5946, 1.5944, 1.5942, 1.5936, 1.5933, 1.5933, 1.5931, 1.5769, 1.4332, 1.1782, 1.3946, 1.2768, 0.0556, 0.7447, -0.2243, 0.5, 0.9656, 0.5556, 0.7549, 0.7392, -0.3417, 0.723, 0.3603, -0.0803, 0.0165, 1.6344, 1.6339, 1.6337, 1.6337, 1.6336, 1.6336, 1.6334, 1.6332, 1.633, 1.6329, 1.6329, 1.6328, 1.6328, 1.6324, 1.6324, 1.6323, 1.6323, 1.6322, 1.6321, 1.6319, 1.6316, 1.6313, 1.6311, 1.6307, 1.6305, 1.6305, 1.6303, 1.6303, 1.6303, 1.6301, 1.3802, 0.6984, 1.1163, 1.2837, 1.3647, 0.9048, 0.2797, 1.4142, 1.3323, 0.3129, -0.0999, 0.5151, 0.3474, 1.6799, 1.6792, 1.6789, 1.6787, 1.6783, 1.6779, 1.6779, 1.6777, 1.6777, 1.6774, 1.6774, 1.6772, 1.6771, 1.677, 1.6768, 1.6768, 1.6762, 1.6761, 1.676, 1.676, 1.6759, 1.6756, 1.6755, 1.6755, 1.6752, 1.6751, 1.6749, 1.6743, 1.6738, 1.6738, 1.6691, 1.3852, 1.5287, 1.4432, 1.4911, 1.1415, 0.028, 1.0645, 1.2937, 1.3319, 0.6134, -0.0305, -0.833, 0.881, -0.6477, -0.0471, 0.8323, 1.741, 1.7406, 1.7404, 1.7403, 1.7396, 1.7393, 1.7391, 1.7389, 1.7387, 1.7387, 1.7385, 1.7385, 1.7384, 1.7382, 1.7381, 1.7379, 1.7376, 1.7376, 1.7374, 1.7372, 1.7372, 1.7372, 1.7369, 1.7369, 1.7368, 1.7368, 1.7368, 1.7367, 1.7367, 1.7366, 1.507, 1.4978, 1.6011, 1.4183, 1.5791, 1.2916, 1.2714, -0.3112, 1.1913, -0.5595, 1.109, 0.5098, 0.4669, 1.2625, 0.4395, -0.4824, 0.9722, 1.0147, 0.4769]}, \"token.table\": {\"Topic\": [3, 5, 1, 1, 2, 3, 4, 5, 1, 2, 3, 4, 5, 2, 2, 4, 5, 1, 5, 3, 4, 2, 4, 2, 1, 1, 3, 2, 4, 2, 2, 5, 4, 1, 1, 2, 4, 5, 3, 5, 2, 5, 2, 3, 4, 5, 4, 2, 3, 3, 1, 4, 3, 5, 3, 4, 4, 5, 5, 1, 2, 1, 4, 1, 2, 4, 5, 3, 5, 2, 1, 2, 3, 1, 2, 3, 5, 1, 3, 2, 3, 4, 3, 1, 2, 5, 1, 2, 5, 5, 5, 2, 3, 3, 4, 4, 3, 3, 3, 1, 5, 2, 4, 5, 5, 5, 5, 1, 3, 3, 1, 3, 1, 2, 3, 4, 4, 1, 3, 5, 1, 4, 1, 2, 4, 5, 1, 5, 1, 3, 5, 5, 5, 3, 1, 2, 5, 2, 4, 2, 4, 5, 2, 1, 5, 2, 5, 1, 1, 3, 2, 1, 4, 4, 2, 1, 2, 3, 5, 1, 4, 5, 3, 4, 2, 4, 4, 1, 5, 1, 2, 3, 4, 5, 5, 4, 5, 4, 2, 3, 3, 2, 4, 1, 3, 5, 5, 4, 1, 1, 5, 1, 2, 3, 1, 2, 4, 4, 2, 3, 4, 5, 3, 2, 1, 1, 1, 2, 4, 5, 3, 3, 5, 2, 3, 4, 5, 2, 2, 5, 1, 5, 1, 5, 1, 1, 2, 3, 4, 5, 2, 4, 3, 1, 5, 3, 4, 5, 4, 4, 4, 5, 3, 3, 1, 1, 2, 5, 1, 2, 4, 1, 2, 3, 4, 5, 4, 2, 5, 1, 5, 1, 2, 4, 5, 1, 2, 1, 2, 3, 4, 5, 2, 1, 3, 2, 4, 1, 2, 3, 4, 5, 2, 1, 3, 4, 1, 1, 2, 3, 3, 2, 3, 4, 5, 5, 4, 1, 4, 2, 3, 4, 5, 4, 3, 2, 3, 2, 1], \"Freq\": [0.9968160857234984, 0.992591932252705, 0.9968359029955278, 0.23666567650329995, 0.42532840918753434, 0.16187039194801175, 0.17415021478544712, 0.0022326950613518865, 0.13211869326701117, 0.35126795432102176, 0.27577155816844395, 0.21390645576563713, 0.02726258749954199, 0.9924254171990046, 0.42204231401703796, 0.5400147718721943, 0.03655484609596392, 0.993223468633235, 0.995537549869407, 0.9959558658367461, 0.9920720713310895, 0.9920274358536834, 0.9967500192892621, 0.9973680544745631, 0.9953948786156438, 0.9980224705821379, 0.9914907685506552, 0.995941782995434, 0.9990185746122522, 0.9927864974332645, 0.9993787031370701, 0.9923201692675295, 0.9973967456583739, 0.9967302865733961, 0.467674396941583, 0.09622929978221872, 0.14530624267115028, 0.29157477834012274, 0.9976484349604469, 0.9938566336173983, 0.2759588838971782, 0.7236255177748228, 0.9946279814431411, 0.9979384420885625, 0.9934775315081636, 0.9915615706194569, 0.9960990405119214, 0.9974568235182738, 0.9940122727943745, 0.99429394295117, 0.9990685617981014, 0.0007276537230867454, 0.9963306608534903, 0.9948130587545745, 0.9951378199148161, 0.9974617550848697, 0.9979631789021767, 0.9973974056149185, 0.9961721321468658, 0.9963195310515508, 0.993452142190544, 0.9975139748440384, 0.9948331984753621, 0.24674116071015403, 0.2892035930184131, 0.19280239534560875, 0.27198909343398375, 0.7626502792133758, 0.23732823374122533, 0.9943543924627491, 0.21026169236753867, 0.08601614687762946, 0.7034209344659476, 0.37854033342569554, 0.27759624451217674, 0.2820496601995378, 0.06086334772726869, 0.9972749631227911, 0.9943332488749137, 0.9932567545907401, 0.0046631772515997195, 0.9942052557653492, 0.9967736163267695, 0.9981574698375144, 0.14630858845825845, 0.847580788309911, 0.19002904726634542, 0.026722834771829823, 0.7823852180419065, 0.9936746836110849, 0.9980671225494496, 0.9960786101059528, 0.9949401494020413, 0.17173606525462765, 0.8262772950930198, 0.9944006709626414, 0.9987732877966683, 0.9964667208198367, 0.9933780438474415, 0.9962643962541845, 0.9960476786317545, 0.9973422793902629, 0.9965252850473394, 0.9949101794099312, 0.9987026515501217, 0.9962064894616741, 0.9973390672071425, 0.998169665835681, 0.9957175321764968, 0.9980244291209801, 0.9940804562866382, 0.9940456127027003, 0.6357915393103147, 0.0003726796830658351, 0.26609329370900625, 0.09726939728018297, 0.9950381021491983, 0.9957204119865066, 0.7377188428171051, 0.2591161224770824, 0.5701946209614555, 0.4276459657210916, 0.9983358595211498, 0.7219707256934608, 0.27490423786020235, 0.9974695012204103, 0.9984283774050443, 0.9961361446660802, 0.30032427878263274, 0.21412008765058077, 0.48385578248313055, 0.9979525910815737, 0.995444135607729, 0.9959157739846151, 0.9963002175912374, 0.37896408412644267, 0.6166779187148476, 0.9946158875628746, 0.9986864913839353, 0.9965676383142279, 0.7060068075608663, 0.2920300885819947, 0.9980140178142651, 0.7778309836247499, 0.21988155014127206, 0.9760900209914393, 0.02121934828242259, 0.9943410504334202, 0.22515228994295206, 0.7744249093642197, 0.9922037253267074, 0.9940894461757344, 0.993619830960903, 0.9970312896898607, 0.9968693316603732, 0.4155213131791732, 0.20465975126735395, 0.10026260541885522, 0.2790814790009372, 0.5886700534375547, 0.16656168178659495, 0.24413835549541998, 0.9962416264421744, 0.9937744862776473, 0.6556370831118091, 0.3437720341590962, 0.9986484211995597, 0.20976610520977684, 0.7892714564711301, 0.39169900493881527, 0.14326876607210173, 0.17624623140839116, 0.18064322678656305, 0.10809280304672637, 0.9928111428138222, 0.9967999156235398, 0.9932550172078525, 0.9975326261607347, 0.9976380229014413, 0.9955666954508966, 0.9964876714082112, 0.2105967397172345, 0.7885133742901106, 0.6473626488939975, 0.20889337871659347, 0.1427093379350985, 0.9981933755540072, 0.9978463654149732, 0.9979612368940726, 0.4692632825593122, 0.5291692335243308, 0.21863436772471254, 0.1858834705351807, 0.5948271057125782, 0.9973081974012493, 0.41499785198236216, 0.5823632408476769, 0.9963740842719713, 0.22747498445216943, 0.0931825237514911, 0.6796842908932292, 0.9961980426081443, 0.9980967014632145, 0.9975561736634563, 0.9981667088750903, 0.9934848785486012, 0.5339452383418772, 0.08846429984362462, 0.09478317840388353, 0.2811900959315211, 0.9964272889820788, 0.1301355348268208, 0.8685790347743622, 0.1501967039489588, 0.07646377655583357, 0.19935198887770894, 0.57620917333146, 0.9909574367806697, 0.9989779381462717, 0.9952012044975469, 0.5360213347143846, 0.4629275163442413, 0.3618931095410416, 0.6378691499104691, 0.998368353146832, 0.4040981731688779, 0.12951864524643525, 0.15196854375581734, 0.10188800092719572, 0.2124105782041538, 0.844909116024536, 0.1521379758758007, 0.995377416764974, 0.37523638527164543, 0.623632302282453, 0.009376975485266954, 0.9892709136956636, 0.9949404571349746, 0.9965382836979225, 0.9957004702111721, 0.994747427214137, 0.9950202161775908, 0.9989435819641354, 0.9922810914817021, 0.9934600478830348, 0.4467724642435273, 0.4289015656737862, 0.12360704844070922, 0.9969037136854111, 0.9971272983482478, 0.9971514872213618, 0.2347031790706356, 0.18201471029967659, 0.32571053422047386, 0.25625755265875516, 0.9973057343504351, 0.9982855032375725, 0.992263684483146, 0.995766160471511, 0.9943506100328471, 0.9966326843797212, 0.10495428231368911, 0.15838555330974902, 0.45034928410964786, 0.2862389517646067, 0.995772305997865, 0.9958381036431148, 0.23814433041493988, 0.16124873590378322, 0.39143834964515517, 0.08103867611197328, 0.1281040830972502, 0.9884584577565089, 0.19606265910528262, 0.8027471136952138, 0.9895880892896084, 0.9915278554606255, 0.2376437898663003, 0.2132371303665181, 0.2576258502754787, 0.19154232192226725, 0.10005303104881472, 0.9953132854308272, 0.7304359899336365, 0.09150170068283134, 0.17669293924960536, 0.9973227157497189, 0.26688438784240254, 0.5299008860059297, 0.20113026330152073, 0.9990078313519604, 0.33273231904199063, 0.4813835634288059, 0.17791936504328665, 0.008472350716346983, 0.9958164728706033, 0.9955776035590309, 0.2551128784745135, 0.7443704536311148, 0.994594465991861, 0.9968709790341154, 0.8586529056432236, 0.1384924041360038, 0.9957004826183194, 0.9978066571434082, 0.8138366424357941, 0.18354613637913655, 0.9972327758931868, 0.9938892189803864], \"Term\": [\"activist\", \"agent\", \"alien\", \"america\", \"america\", \"america\", \"america\", \"america\", \"american\", \"american\", \"american\", \"american\", \"american\", \"angri\", \"anti\", \"anti\", \"anti\", \"arm\", \"assault\", \"awesom\", \"babi\", \"baltimor\", \"beat\", \"believ\", \"benghazi\", \"berni\", \"best\", \"billion\", \"black\", \"block\", \"boiler\", \"bomb\", \"boom\", \"border\", \"break\", \"break\", \"break\", \"break\", \"brutal\", \"bush\", \"campaign\", \"campaign\", \"case\", \"chang\", \"chicago\", \"christian\", \"citi\", \"citizen\", \"class\", \"climat\", \"clinton\", \"clinton\", \"colleg\", \"comey\", \"conspiraci\", \"control\", \"cop\", \"court\", \"crimin\", \"crowd\", \"cruz\", \"deal\", \"debat\", \"democrat\", \"democrat\", \"democrat\", \"democrat\", \"destroy\", \"destroy\", \"director\", \"donald\", \"donald\", \"donald\", \"elect\", \"elect\", \"elect\", \"elect\", \"email\", \"emerg\", \"episod\", \"episod\", \"execut\", \"explain\", \"expos\", \"facebook\", \"facebook\", \"fake\", \"fake\", \"fake\", \"fals\", \"feder\", \"femal\", \"fight\", \"flag\", \"flag\", \"florida\", \"foreign\", \"free\", \"friend\", \"fund\", \"georg\", \"girl\", \"global\", \"good\", \"govern\", \"great\", \"guest\", \"hack\", \"hammer\", \"henningsen\", \"high\", \"hilari\", \"hillari\", \"hillari\", \"hillari\", \"hillari\", \"hollywood\", \"home\", \"host\", \"host\", \"hous\", \"hous\", \"illeg\", \"immigr\", \"immigr\", \"investig\", \"iran\", \"iraq\", \"isi\", \"isi\", \"isi\", \"islam\", \"jame\", \"john\", \"join\", \"judg\", \"judg\", \"justic\", \"kill\", \"left\", \"leftist\", \"leftist\", \"liber\", \"lie\", \"lie\", \"like\", \"like\", \"list\", \"live\", \"live\", \"look\", \"mainstream\", \"mass\", \"matter\", \"mayor\", \"media\", \"media\", \"media\", \"media\", \"million\", \"million\", \"million\", \"msnbc\", \"murder\", \"muslim\", \"muslim\", \"nation\", \"news\", \"news\", \"obama\", \"obama\", \"obama\", \"obama\", \"obama\", \"oper\", \"order\", \"oregon\", \"organ\", \"parti\", \"patrick\", \"paul\", \"peopl\", \"peopl\", \"plan\", \"plan\", \"plan\", \"play\", \"polic\", \"polici\", \"polit\", \"polit\", \"presid\", \"presid\", \"presid\", \"press\", \"protest\", \"protest\", \"question\", \"racist\", \"racist\", \"racist\", \"radic\", \"rape\", \"refuge\", \"releas\", \"remov\", \"report\", \"report\", \"report\", \"report\", \"respons\", \"reveal\", \"reveal\", \"right\", \"right\", \"right\", \"right\", \"riot\", \"room\", \"rule\", \"russia\", \"russia\", \"russian\", \"russian\", \"sander\", \"say\", \"say\", \"say\", \"say\", \"say\", \"school\", \"school\", \"screen\", \"secret\", \"secret\", \"secur\", \"secur\", \"sexual\", \"shoot\", \"shooter\", \"shot\", \"soro\", \"speech\", \"stage\", \"star\", \"state\", \"state\", \"state\", \"stori\", \"student\", \"sunday\", \"support\", \"support\", \"support\", \"support\", \"suprem\", \"syria\", \"syrian\", \"target\", \"taxpay\", \"terror\", \"terrorist\", \"terrorist\", \"terrorist\", \"terrorist\", \"thing\", \"thug\", \"trump\", \"trump\", \"trump\", \"trump\", \"trump\", \"tucker\", \"tweet\", \"tweet\", \"univers\", \"veteran\", \"video\", \"video\", \"video\", \"video\", \"video\", \"violent\", \"vote\", \"vote\", \"vote\", \"wall\", \"want\", \"want\", \"want\", \"washington\", \"watch\", \"watch\", \"watch\", \"watch\", \"water\", \"wear\", \"white\", \"white\", \"wikileak\", \"wire\", \"woman\", \"woman\", \"women\", \"word\", \"work\", \"work\", \"year\", \"young\"]}, \"R\": 30, \"lambda.step\": 0.01, \"plot.opts\": {\"xlab\": \"PC1\", \"ylab\": \"PC2\"}, \"topic.order\": [1, 3, 4, 2, 5]};\n",
       "\n",
       "function LDAvis_load_lib(url, callback){\n",
       "  var s = document.createElement('script');\n",
       "  s.src = url;\n",
       "  s.async = true;\n",
       "  s.onreadystatechange = s.onload = callback;\n",
       "  s.onerror = function(){console.warn(\"failed to load library \" + url);};\n",
       "  document.getElementsByTagName(\"head\")[0].appendChild(s);\n",
       "}\n",
       "\n",
       "if(typeof(LDAvis) !== \"undefined\"){\n",
       "   // already loaded: just create the visualization\n",
       "   !function(LDAvis){\n",
       "       new LDAvis(\"#\" + \"ldavis_el1772455479636643919712004\", ldavis_el1772455479636643919712004_data);\n",
       "   }(LDAvis);\n",
       "}else if(typeof define === \"function\" && define.amd){\n",
       "   // require.js is available: use it to load d3/LDAvis\n",
       "   require.config({paths: {d3: \"https://d3js.org/d3.v5\"}});\n",
       "   require([\"d3\"], function(d3){\n",
       "      window.d3 = d3;\n",
       "      LDAvis_load_lib(\"https://cdn.jsdelivr.net/gh/bmabey/pyLDAvis@3.4.0/pyLDAvis/js/ldavis.v3.0.0.js\", function(){\n",
       "        new LDAvis(\"#\" + \"ldavis_el1772455479636643919712004\", ldavis_el1772455479636643919712004_data);\n",
       "      });\n",
       "    });\n",
       "}else{\n",
       "    // require.js not available: dynamically load d3 & LDAvis\n",
       "    LDAvis_load_lib(\"https://d3js.org/d3.v5.js\", function(){\n",
       "         LDAvis_load_lib(\"https://cdn.jsdelivr.net/gh/bmabey/pyLDAvis@3.4.0/pyLDAvis/js/ldavis.v3.0.0.js\", function(){\n",
       "                 new LDAvis(\"#\" + \"ldavis_el1772455479636643919712004\", ldavis_el1772455479636643919712004_data);\n",
       "            })\n",
       "         });\n",
       "}\n",
       "</script>"
      ],
      "text/plain": [
       "<IPython.core.display.HTML object>"
      ]
     },
     "execution_count": 8,
     "metadata": {},
     "output_type": "execute_result"
    }
   ],
   "source": [
    "visualisation_fake = gensimvis.prepare(fake_lda_model, fake_corpus, fake_id2word)\n",
    "pyLDAvis.display(visualisation_fake)"
   ]
  },
  {
   "attachments": {},
   "cell_type": "markdown",
   "metadata": {},
   "source": [
    "## Analysing all the data together"
   ]
  },
  {
   "cell_type": "code",
   "execution_count": 9,
   "metadata": {},
   "outputs": [
    {
     "name": "stdout",
     "output_type": "stream",
     "text": [
      "Preprocessing dataset: All news ...\n",
      "Total documents: 44898\n",
      "Dictionary size: 12255\n",
      "Dictionary after filtering extremes: 3915\n",
      "Done!\n"
     ]
    }
   ],
   "source": [
    "combined_bow_corpus, combined_id2word, combined_corpus = run_processing_on(\"All news\", df_fake.loc[0:, 'title'].tolist() + df_real.loc[0:, 'title'].tolist())"
   ]
  },
  {
   "cell_type": "code",
   "execution_count": 12,
   "metadata": {},
   "outputs": [],
   "source": [
    "combined_lda_model = gensim.models.ldamodel.LdaModel(corpus=combined_corpus,\n",
    "\t\t\t\t\t\t\t\t\t\t\tid2word=combined_id2word,\n",
    "\t\t\t\t\t\t\t\t\t\t\tnum_topics=3,\n",
    "\t\t\t\t\t\t\t\t\t\t\trandom_state=100,\n",
    "\t\t\t\t\t\t\t\t\t\t\tupdate_every=1,\n",
    "\t\t\t\t\t\t\t\t\t\t\tchunksize=1000,\n",
    "\t\t\t\t\t\t\t\t\t\t\tpasses=10,\n",
    "\t\t\t\t\t\t\t\t\t\t\talpha='symmetric',\n",
    "\t\t\t\t\t\t\t\t\t\t\titerations=100,\n",
    "\t\t\t\t\t\t\t\t\t\t\tper_word_topics=True)"
   ]
  },
  {
   "cell_type": "code",
   "execution_count": 13,
   "metadata": {},
   "outputs": [
    {
     "name": "stderr",
     "output_type": "stream",
     "text": [
      "/Users/kjeks/Library/Python/3.9/lib/python/site-packages/pyLDAvis/_prepare.py:243: FutureWarning: In a future version of pandas all arguments of DataFrame.drop except for the argument 'labels' will be keyword-only.\n",
      "  default_term_info = default_term_info.sort_values(\n"
     ]
    },
    {
     "data": {
      "text/html": [
       "\n",
       "<link rel=\"stylesheet\" type=\"text/css\" href=\"https://cdn.jsdelivr.net/gh/bmabey/pyLDAvis@3.4.0/pyLDAvis/js/ldavis.v1.0.0.css\">\n",
       "\n",
       "\n",
       "<div id=\"ldavis_el52360107703184963736955258\" style=\"background-color:white;\"></div>\n",
       "<script type=\"text/javascript\">\n",
       "\n",
       "var ldavis_el52360107703184963736955258_data = {\"mdsDat\": {\"x\": [-0.11502858478843622, -0.20895062351004542, 0.3239792082984817], \"y\": [-0.29197657042848446, 0.2405194495904089, 0.05145712083807562], \"topics\": [1, 2, 3], \"cluster\": [1, 1, 1], \"Freq\": [43.50982885085153, 28.456883692641505, 28.033287456506965]}, \"tinfo\": {\"Term\": [\"presid\", \"korea\", \"brexit\", \"north\", \"leader\", \"court\", \"hous\", \"iran\", \"deal\", \"china\", \"say\", \"russia\", \"kill\", \"britain\", \"clinton\", \"elect\", \"opposit\", \"video\", \"rule\", \"polic\", \"senat\", \"minist\", \"germani\", \"franc\", \"merkel\", \"south\", \"plan\", \"syria\", \"state\", \"turkey\", \"presid\", \"brexit\", \"video\", \"poll\", \"support\", \"campaign\", \"presidenti\", \"merkel\", \"britain\", \"hurrican\", \"macron\", \"speech\", \"hillari\", \"franc\", \"critic\", \"news\", \"like\", \"chang\", \"get\", \"voter\", \"watch\", \"journalist\", \"ralli\", \"make\", \"pope\", \"quit\", \"home\", \"germani\", \"mexican\", \"sander\", \"clinton\", \"parliament\", \"irma\", \"open\", \"referendum\", \"corrupt\", \"puerto\", \"rico\", \"zealand\", \"opposit\", \"elect\", \"german\", \"trump\", \"anti\", \"protest\", \"mexico\", \"parti\", \"call\", \"vote\", \"say\", \"court\", \"hous\", \"leader\", \"deal\", \"senat\", \"rule\", \"plan\", \"secur\", \"rohingya\", \"border\", \"crisi\", \"group\", \"congress\", \"catalan\", \"polit\", \"order\", \"spain\", \"back\", \"million\", \"nation\", \"factbox\", \"ahead\", \"death\", \"suprem\", \"muslim\", \"catalonia\", \"violenc\", \"fund\", \"reject\", \"venezuela\", \"iran\", \"independ\", \"republican\", \"french\", \"london\", \"refuge\", \"white\", \"vote\", \"hope\", \"say\", \"trump\", \"right\", \"myanmar\", \"parti\", \"obama\", \"korea\", \"north\", \"china\", \"russia\", \"kill\", \"syria\", \"south\", \"polic\", \"turkey\", \"offici\", \"govern\", \"russian\", \"militari\", \"islam\", \"forc\", \"nuclear\", \"sourc\", \"sanction\", \"syrian\", \"chief\", \"seek\", \"arrest\", \"iraq\", \"foreign\", \"probe\", \"putin\", \"korean\", \"japan\", \"missil\", \"suspect\", \"iraqi\", \"warn\", \"coalit\", \"minist\", \"state\", \"say\", \"saudi\", \"attack\", \"trump\", \"talk\"], \"Freq\": [3118.0, 1894.0, 2886.0, 1881.0, 1659.0, 1510.0, 1431.0, 1448.0, 1332.0, 1308.0, 5466.0, 1171.0, 1111.0, 1665.0, 1634.0, 2744.0, 1741.0, 1509.0, 991.0, 965.0, 972.0, 1070.0, 1468.0, 1446.0, 1398.0, 901.0, 910.0, 876.0, 1309.0, 853.0, 3117.8494172333235, 2886.043092561622, 1508.7852514872657, 1251.001461947925, 1265.8928052325446, 1031.6166385870802, 1033.151687000324, 1397.7228406648237, 1664.345473101394, 1064.1846963799892, 1160.6633841231956, 624.1707626976412, 574.2864416316867, 1445.257863308403, 836.9658256642186, 535.7611041847858, 561.6087982824274, 724.5702551966128, 488.05912438643503, 489.33893266986223, 425.94551260480114, 542.690537228029, 429.96740049977365, 435.84225958452856, 518.225330237443, 509.226988275672, 503.98780130003524, 1466.1027745462954, 436.33064308380676, 362.95972053178633, 1630.4646526728798, 1049.554420942203, 1333.0261626931015, 793.4558129068707, 876.1333567130896, 649.3167372266415, 616.8082054004035, 592.9326731810534, 537.9801808828701, 1715.897041566014, 2460.1035811177962, 1572.8526747763467, 5086.993093130808, 897.4872912813613, 964.3045644713432, 750.9338063166116, 1182.1354687162232, 855.2685341087234, 900.5945744926225, 1013.904402756022, 1509.2379794439807, 1430.8329775398804, 1658.779592498302, 1331.6797746960021, 971.6708230944266, 990.8498567699919, 909.9300671694831, 777.8552977049078, 806.8683301227026, 679.6195372563541, 721.4967736986463, 554.851319139875, 505.45476675224256, 741.8433128310445, 488.1180140348145, 457.7509838388661, 509.2681036582758, 579.1904274579213, 421.32449595885555, 450.8641536518933, 602.1428678101373, 550.7449941757473, 426.2404970742357, 349.0076515911861, 347.3798368025677, 481.5660986467878, 355.4348757629137, 323.8835512636875, 369.0151240882876, 432.76001452614975, 1441.4476122665387, 704.7453618437578, 831.1064331105152, 416.4958875955104, 386.6524879076013, 578.1603182903729, 799.4380404387812, 1240.8900491468194, 443.7367438328906, 1448.7671863144449, 1659.1779872869142, 717.6902430817123, 589.8046538072335, 714.4993186261795, 645.1340215264206, 1893.6263814619874, 1880.4708653199166, 1306.8296949229352, 1170.2050369316141, 1110.0552536080766, 874.9078897892778, 900.0213243578341, 964.283223396791, 852.5077346077027, 697.5194050460616, 769.05342924003, 589.6191228990648, 586.5256714991301, 580.72063930557, 556.2714441388347, 658.6408381199543, 533.3667173308964, 511.6511399715886, 507.30238338179225, 520.328582929686, 556.426641931777, 499.977735932222, 486.4095510043094, 470.7597846185228, 432.4760382657691, 434.0683801373084, 402.6447606511017, 448.0306387237981, 383.02225260473284, 371.17664248895204, 402.5378386693281, 394.25165328082284, 421.7116945706042, 1026.3395436628905, 1097.849251151974, 3003.7753259035912, 597.3185783825699, 742.1815929494791, 1265.4032379629245, 647.9816731133819], \"Total\": [3118.0, 1894.0, 2886.0, 1881.0, 1659.0, 1510.0, 1431.0, 1448.0, 1332.0, 1308.0, 5466.0, 1171.0, 1111.0, 1665.0, 1634.0, 2744.0, 1741.0, 1509.0, 991.0, 965.0, 972.0, 1070.0, 1468.0, 1446.0, 1398.0, 901.0, 910.0, 876.0, 1309.0, 853.0, 3118.5273758268136, 2886.98890393167, 1509.3781969264103, 1251.6582062760508, 1266.557610473182, 1032.264768496699, 1033.8459329043628, 1398.6807559229258, 1665.5790211007886, 1064.9811422844994, 1161.5774424363242, 624.8037788964077, 574.879051824013, 1446.7783429383496, 837.8645789006056, 536.3828193685235, 562.2899940681042, 725.4623702748266, 488.71209024503037, 490.0057073719964, 426.55367800969753, 543.4809579585304, 430.6041599812273, 436.4940883429395, 519.0405505883356, 510.028894062725, 504.7828114884006, 1468.4784292393751, 437.0523502205271, 363.5706139073362, 1634.0357002698322, 1051.3291712637092, 1340.369194112495, 795.2901684415103, 879.0741686531406, 650.5434311130423, 617.9995221788748, 594.6591655350753, 539.055067978773, 1741.2776276681982, 2744.2252211700575, 1725.8441415316906, 8011.574318380646, 1040.515770659289, 1165.1439018225672, 880.5562145687458, 1896.9796221355703, 1386.3878480756237, 2141.7575827070627, 5466.446914974058, 1510.2475859274293, 1431.818934680277, 1659.978658711426, 1332.8257172455194, 972.6416417552598, 991.8995386635346, 910.9672810970192, 779.1569366884443, 808.2401210636633, 680.7940349285227, 722.8369863350455, 555.9449356945512, 506.4685610150691, 743.414101952369, 489.2315621813638, 458.80122655057863, 510.4478428136765, 580.560851682361, 422.3443861861518, 451.9655578304005, 603.6549807207356, 552.1495895337646, 427.3953615140271, 349.96034054288526, 348.38227070182376, 482.9786564983338, 356.5106447500565, 324.8654247266073, 370.15730183751884, 434.11930502083686, 1448.2568779498674, 707.4983838171576, 838.1230343282829, 418.4806283947296, 388.13929855367786, 599.0439898575364, 1029.914017755039, 2141.7575827070627, 459.6034486827101, 5466.446914974058, 8011.574318380646, 1440.883946886447, 944.4935185422254, 1896.9796221355703, 1348.1314804299832, 1894.7423695266832, 1881.5899992580305, 1308.010556413286, 1171.3168989664607, 1111.2434504244509, 876.0225710252206, 901.2053690751333, 965.5571237080328, 853.6861537816925, 698.7034026199208, 770.4275912842079, 590.7532459211942, 587.6651595052629, 581.8785839213705, 557.4329937681412, 660.0356678602809, 534.5333850684859, 512.8042627143476, 508.46524101778795, 521.5367745048922, 557.7404667147457, 501.16253187814, 487.57516298294473, 471.9068306485894, 433.6125806978474, 435.2124838647494, 403.7533140843585, 449.30929339620764, 384.1300818830298, 372.3016223759796, 403.812395341142, 395.46265619114314, 423.6948250495859, 1070.7702427762729, 1309.4508034253422, 5466.446914974058, 706.5957068429005, 1151.9199576246365, 8011.574318380646, 1473.658283396821], \"Category\": [\"Default\", \"Default\", \"Default\", \"Default\", \"Default\", \"Default\", \"Default\", \"Default\", \"Default\", \"Default\", \"Default\", \"Default\", \"Default\", \"Default\", \"Default\", \"Default\", \"Default\", \"Default\", \"Default\", \"Default\", \"Default\", \"Default\", \"Default\", \"Default\", \"Default\", \"Default\", \"Default\", \"Default\", \"Default\", \"Default\", \"Topic1\", \"Topic1\", \"Topic1\", \"Topic1\", \"Topic1\", \"Topic1\", \"Topic1\", \"Topic1\", \"Topic1\", \"Topic1\", \"Topic1\", \"Topic1\", \"Topic1\", \"Topic1\", \"Topic1\", \"Topic1\", \"Topic1\", \"Topic1\", \"Topic1\", \"Topic1\", \"Topic1\", \"Topic1\", \"Topic1\", \"Topic1\", \"Topic1\", \"Topic1\", \"Topic1\", \"Topic1\", \"Topic1\", \"Topic1\", \"Topic1\", \"Topic1\", \"Topic1\", \"Topic1\", \"Topic1\", \"Topic1\", \"Topic1\", \"Topic1\", \"Topic1\", \"Topic1\", \"Topic1\", \"Topic1\", \"Topic1\", \"Topic1\", \"Topic1\", \"Topic1\", \"Topic1\", \"Topic1\", \"Topic1\", \"Topic1\", \"Topic2\", \"Topic2\", \"Topic2\", \"Topic2\", \"Topic2\", \"Topic2\", \"Topic2\", \"Topic2\", \"Topic2\", \"Topic2\", \"Topic2\", \"Topic2\", \"Topic2\", \"Topic2\", \"Topic2\", \"Topic2\", \"Topic2\", \"Topic2\", \"Topic2\", \"Topic2\", \"Topic2\", \"Topic2\", \"Topic2\", \"Topic2\", \"Topic2\", \"Topic2\", \"Topic2\", \"Topic2\", \"Topic2\", \"Topic2\", \"Topic2\", \"Topic2\", \"Topic2\", \"Topic2\", \"Topic2\", \"Topic2\", \"Topic2\", \"Topic2\", \"Topic2\", \"Topic2\", \"Topic2\", \"Topic2\", \"Topic2\", \"Topic2\", \"Topic2\", \"Topic3\", \"Topic3\", \"Topic3\", \"Topic3\", \"Topic3\", \"Topic3\", \"Topic3\", \"Topic3\", \"Topic3\", \"Topic3\", \"Topic3\", \"Topic3\", \"Topic3\", \"Topic3\", \"Topic3\", \"Topic3\", \"Topic3\", \"Topic3\", \"Topic3\", \"Topic3\", \"Topic3\", \"Topic3\", \"Topic3\", \"Topic3\", \"Topic3\", \"Topic3\", \"Topic3\", \"Topic3\", \"Topic3\", \"Topic3\", \"Topic3\", \"Topic3\", \"Topic3\", \"Topic3\", \"Topic3\", \"Topic3\", \"Topic3\", \"Topic3\", \"Topic3\", \"Topic3\"], \"logprob\": [30.0, 29.0, 28.0, 27.0, 26.0, 25.0, 24.0, 23.0, 22.0, 21.0, 20.0, 19.0, 18.0, 17.0, 16.0, 15.0, 14.0, 13.0, 12.0, 11.0, 10.0, 9.0, 8.0, 7.0, 6.0, 5.0, 4.0, 3.0, 2.0, 1.0, -3.8667, -3.944, -4.5926, -4.7799, -4.7681, -4.9727, -4.9712, -4.669, -4.4944, -4.9417, -4.8549, -5.4752, -5.5585, -4.6356, -5.1818, -5.6279, -5.5808, -5.326, -5.7212, -5.7186, -5.8573, -5.6151, -5.8479, -5.8343, -5.6612, -5.6787, -5.6891, -4.6213, -5.8332, -6.0173, -4.515, -4.9555, -4.7164, -5.2352, -5.1361, -5.4357, -5.4871, -5.5265, -5.6238, -4.4639, -4.1037, -4.551, -3.3772, -5.112, -5.0402, -5.2903, -4.8365, -5.1602, -5.1086, -4.9901, -4.1677, -4.221, -4.0732, -4.2928, -4.608, -4.5885, -4.6737, -4.8305, -4.7939, -4.9655, -4.9057, -5.1683, -5.2616, -4.8779, -5.2965, -5.3607, -5.254, -5.1254, -5.4436, -5.3759, -5.0865, -5.1757, -5.432, -5.6319, -5.6366, -5.31, -5.6137, -5.7066, -5.5762, -5.4168, -4.2136, -4.9292, -4.7643, -5.4551, -5.5295, -5.1272, -4.8031, -4.3634, -5.3918, -4.2086, -4.0729, -4.911, -5.1072, -4.9154, -5.0176, -3.9258, -3.9327, -4.2967, -4.4071, -4.4599, -4.6979, -4.6696, -4.6006, -4.7238, -4.9245, -4.8269, -5.0925, -5.0978, -5.1078, -5.1508, -4.9818, -5.1928, -5.2344, -5.2429, -5.2176, -5.1505, -5.2575, -5.285, -5.3177, -5.4025, -5.3988, -5.474, -5.3672, -5.5239, -5.5553, -5.4742, -5.495, -5.4277, -4.5383, -4.4709, -3.4644, -5.0796, -4.8624, -4.3289, -4.9982], \"loglift\": [30.0, 29.0, 28.0, 27.0, 26.0, 25.0, 24.0, 23.0, 22.0, 21.0, 20.0, 19.0, 18.0, 17.0, 16.0, 15.0, 14.0, 13.0, 12.0, 11.0, 10.0, 9.0, 8.0, 7.0, 6.0, 5.0, 4.0, 3.0, 2.0, 1.0, 0.832, 0.8319, 0.8318, 0.8317, 0.8317, 0.8316, 0.8315, 0.8315, 0.8314, 0.8314, 0.8314, 0.8312, 0.8312, 0.8311, 0.8311, 0.831, 0.831, 0.831, 0.8308, 0.8308, 0.8308, 0.8307, 0.8307, 0.8307, 0.8306, 0.8306, 0.8306, 0.8306, 0.8305, 0.8305, 0.83, 0.8305, 0.8267, 0.8299, 0.8288, 0.8303, 0.8303, 0.8293, 0.8302, 0.8175, 0.7229, 0.7394, 0.378, 0.6843, 0.643, 0.6729, 0.3592, 0.3491, -0.0341, -0.8526, 1.2561, 1.2561, 1.2561, 1.2559, 1.2558, 1.2557, 1.2556, 1.2551, 1.2551, 1.2551, 1.2549, 1.2548, 1.2548, 1.2547, 1.2545, 1.2545, 1.2545, 1.2544, 1.2544, 1.2543, 1.2543, 1.2542, 1.2541, 1.2541, 1.2539, 1.2539, 1.2538, 1.2538, 1.2537, 1.2536, 1.2521, 1.2529, 1.2484, 1.252, 1.2529, 1.2213, 1.0035, 0.711, 1.2216, -0.0711, -0.3178, 0.5598, 0.7859, 0.2803, 0.5198, 1.2712, 1.2712, 1.2709, 1.2708, 1.2707, 1.2705, 1.2705, 1.2705, 1.2704, 1.2701, 1.27, 1.2699, 1.2698, 1.2698, 1.2697, 1.2697, 1.2696, 1.2695, 1.2695, 1.2695, 1.2694, 1.2694, 1.2694, 1.2693, 1.2692, 1.2691, 1.269, 1.2689, 1.2689, 1.2688, 1.2686, 1.2687, 1.2671, 1.2294, 1.0955, 0.673, 1.1038, 0.8322, -0.5737, 0.4501]}, \"token.table\": {\"Topic\": [1, 2, 1, 2, 3, 1, 3, 1, 3, 1, 2, 3, 1, 2, 1, 2, 1, 2, 3, 1, 2, 3, 1, 1, 2, 1, 2, 1, 2, 1, 3, 1, 3, 1, 3, 1, 2, 3, 1, 2, 1, 2, 1, 2, 1, 2, 3, 1, 2, 1, 2, 1, 2, 1, 2, 3, 1, 2, 1, 3, 1, 3, 1, 3, 1, 2, 3, 1, 2, 1, 2, 3, 1, 3, 1, 1, 3, 1, 2, 1, 1, 1, 2, 1, 2, 1, 2, 1, 2, 3, 1, 2, 3, 1, 3, 1, 3, 1, 2, 3, 1, 3, 1, 3, 1, 1, 3, 1, 3, 1, 3, 1, 2, 1, 1, 2, 1, 1, 1, 3, 1, 1, 2, 1, 3, 1, 2, 1, 3, 1, 3, 1, 2, 1, 2, 3, 1, 2, 1, 1, 3, 1, 2, 3, 1, 2, 1, 3, 1, 2, 1, 2, 3, 1, 2, 1, 2, 3, 1, 2, 1, 2, 1, 3, 1, 2, 1, 1, 2, 1, 1, 1, 3, 1, 3, 1, 2, 1, 3, 1, 1, 1, 2, 3, 1, 2, 1, 2, 1, 2, 1, 2, 1, 2, 1, 2, 3, 1, 2, 1, 3, 1, 3, 1, 3, 1, 1, 2, 3, 1, 2, 3, 1, 2, 3, 1, 2, 3, 1, 2, 1, 3, 1, 3, 1, 2, 1, 1, 2, 3, 1, 1, 2, 1, 3, 1, 3, 1, 3, 1, 2, 3, 1, 2, 3, 1, 3, 1, 2, 1, 1, 2, 1, 2, 1, 1, 3, 1, 1, 2, 1, 2], \"Freq\": [0.0018111034019682973, 0.9979179744845318, 0.8620724695327252, 0.12205485354588194, 0.015376989423103235, 0.00199536065925047, 0.9976803296252349, 0.35505939218502225, 0.6441419779982555, 0.0017224723249977668, 0.997311476173707, 0.0017224723249977668, 0.0014688730345661608, 0.9988336635049894, 0.9996574618176318, 0.0003463816569014663, 0.999051968666281, 0.0006003918080927169, 0.0006003918080927169, 0.6167105411279991, 0.16084964990823836, 0.22216005458178212, 0.9997435071846107, 0.0013451453199149438, 0.9980978273768882, 0.0020704848683172606, 0.9979737065289195, 0.9993626543653098, 0.0013784312474004275, 0.001917410332088902, 0.997053372686229, 0.0007645198237100731, 0.9992274095890655, 0.9975302251540981, 0.001835945199670119, 0.002360189317589536, 0.002360189317589536, 0.9959998920227842, 0.0019744562189522494, 0.997100390570886, 0.9976274741405019, 0.0015371763854245021, 0.0006621430878738396, 0.999173919601624, 0.0013834377859802617, 0.9974586436917687, 0.0013834377859802617, 0.9989681161820446, 0.0011935102941243066, 0.0007502856427970547, 0.9993804762056768, 0.0023397539843613394, 0.9967351973379306, 0.8964278809999159, 0.0010932047329267267, 0.10239684331747007, 0.001656575414661612, 0.9972583996262905, 0.001793937587440223, 0.997429298616764, 0.002119062355222955, 0.9980783693100118, 0.9987708255746088, 0.0006911908827505944, 0.0023895968705551535, 0.9940722981509439, 0.0023895968705551535, 0.0030781976901406386, 0.9973360516055669, 0.9114380390131631, 0.00057942659822833, 0.08807284293070616, 0.9983122467514495, 0.0013619539519119366, 0.9985429248442097, 0.0012979805127865723, 0.9981470143328742, 0.0017987392919600635, 0.9983003070378352, 0.9984708925795367, 0.9984492112833786, 0.03263683082229293, 0.9660501923398707, 0.0006984123311815949, 0.9994280459208623, 0.9990787233261289, 0.0009389837625245572, 0.0014134307906185056, 0.9964687073860465, 0.002826861581237011, 0.0006904852414135166, 0.9949892328768773, 0.0041429114484810995, 0.0020509658323899895, 0.9967693945415349, 0.0024763974844189632, 0.9979881862208423, 0.9945021161745108, 0.004476378617439659, 0.0007460631029066098, 0.0017185715845749884, 0.9984900906380683, 0.0022256383624769255, 0.9970859863896626, 0.9991150417480364, 0.0008998928179221571, 0.9988810278935943, 0.0005277762381224448, 0.9996081950039104, 0.002476759855873441, 0.9981342219169967, 0.0006024173833513374, 0.9994104389798687, 0.9994842624425768, 0.0025763946184431635, 0.9970647173375042, 0.9995028808108454, 0.9988680526125446, 0.9995132871314323, 0.0007149594328551017, 0.9975921643711649, 0.8528700241673994, 0.14649831307269578, 0.0017016492875668674, 0.9988681318017512, 0.002367735982074216, 0.9968168484532449, 0.0410919151861352, 0.9581887495676071, 0.0026032847911778667, 0.9970580750211229, 0.002870410133057225, 0.996032316170857, 0.001058768514942745, 0.6246734238162196, 0.373745285774789, 0.0022125579763209494, 0.9978636473207483, 0.9992862944995624, 0.0005314654097833912, 0.9991549703927756, 0.0015150696374361455, 0.0015150696374361455, 0.9984308910704199, 0.5214624910144372, 0.47843998108721475, 0.0014312224561241732, 0.9989932743746728, 0.997120336032824, 0.0012574026936101185, 0.9854832869460063, 0.013208692074451132, 0.0011485819195174898, 0.0021795931268936116, 0.9982536521172741, 0.9987357230256328, 0.0009511768790720313, 0.0009511768790720313, 0.6230957814240172, 0.3763878070530865, 0.001097734266367684, 0.9989381823945923, 0.0010356715055445877, 0.9983873313449825, 0.002044021844259689, 0.9974826599987282, 0.999474132576489, 0.9979952422076539, 0.0019266317417136177, 0.999830889466964, 0.9991817611527606, 0.002306206149255679, 0.9962810564784532, 0.8273656142319165, 0.17165261706056356, 0.9983826489455027, 0.0016181242284367954, 0.002297728206506983, 0.9972140416240307, 0.9979826749529245, 0.9985969481083191, 0.9965029473476047, 0.001137560442177631, 0.002275120884355262, 0.035055856256890554, 0.964870710308702, 0.0027015541636916073, 0.996873486402203, 0.008351995725317559, 0.9915012068198416, 0.9972098882330648, 0.0016816355619444598, 0.5017753175488588, 0.49830522544962746, 0.0012372560751920804, 0.9984656526800089, 0.0012372560751920804, 0.0010081666146829545, 0.9990931151508079, 0.0008537399237408542, 0.9988757107767994, 0.00169275413534232, 0.9987249398519688, 0.0019500617929867714, 0.998431638009227, 0.9984305279758345, 0.15426077309048, 0.001415236450371376, 0.8448961608717115, 0.1854952615056744, 0.26507163108651105, 0.5495342855651341, 0.0012834384870526573, 0.9985151429269674, 0.0012834384870526573, 0.0017929486197949597, 0.0017929486197949597, 0.9968794326059977, 0.001028127891167983, 0.9993403102152795, 0.0018707905398123584, 0.997131357719987, 0.0011096249915002784, 0.9986624923502505, 0.0019590640142346915, 0.9971635832454581, 0.998713549879888, 0.0007636789388223966, 0.16113625609152568, 0.8385194748269915, 0.9995597433006038, 0.0028574666445024127, 0.997255858931342, 0.002685994204425252, 0.9965038498417685, 0.001141523098919343, 0.9988327115544251, 0.001966702774015218, 0.9971183064257155, 0.40239993672964636, 0.15810992454975986, 0.43972202192379567, 0.6349563516285547, 0.20707540541611405, 0.1578965568724438, 0.001171390675097822, 0.9991962458584424, 0.002303514237755453, 0.9974216649481111, 0.9997494352792557, 0.002804965334768848, 0.995762693842941, 0.42068253068173384, 0.5794306554672938, 0.9979475598817201, 0.0025286837691108296, 0.9963014050296669, 0.9987019734250541, 0.2233196131278452, 0.7757929169093406, 0.998042745460628, 0.001855098039889643], \"Term\": [\"ahead\", \"ahead\", \"anti\", \"anti\", \"anti\", \"arrest\", \"arrest\", \"attack\", \"attack\", \"back\", \"back\", \"back\", \"border\", \"border\", \"brexit\", \"brexit\", \"britain\", \"britain\", \"britain\", \"call\", \"call\", \"call\", \"campaign\", \"catalan\", \"catalan\", \"catalonia\", \"catalonia\", \"chang\", \"chang\", \"chief\", \"chief\", \"china\", \"china\", \"clinton\", \"clinton\", \"coalit\", \"coalit\", \"coalit\", \"congress\", \"congress\", \"corrupt\", \"corrupt\", \"court\", \"court\", \"crisi\", \"crisi\", \"crisi\", \"critic\", \"critic\", \"deal\", \"deal\", \"death\", \"death\", \"elect\", \"elect\", \"elect\", \"factbox\", \"factbox\", \"forc\", \"forc\", \"foreign\", \"foreign\", \"franc\", \"franc\", \"french\", \"french\", \"french\", \"fund\", \"fund\", \"german\", \"german\", \"german\", \"germani\", \"germani\", \"get\", \"govern\", \"govern\", \"group\", \"group\", \"hillari\", \"home\", \"hope\", \"hope\", \"hous\", \"hous\", \"hurrican\", \"hurrican\", \"independ\", \"independ\", \"independ\", \"iran\", \"iran\", \"iran\", \"iraq\", \"iraq\", \"iraqi\", \"iraqi\", \"irma\", \"irma\", \"irma\", \"islam\", \"islam\", \"japan\", \"japan\", \"journalist\", \"kill\", \"kill\", \"korea\", \"korea\", \"korean\", \"korean\", \"leader\", \"leader\", \"like\", \"london\", \"london\", \"macron\", \"make\", \"merkel\", \"merkel\", \"mexican\", \"mexico\", \"mexico\", \"militari\", \"militari\", \"million\", \"million\", \"minist\", \"minist\", \"missil\", \"missil\", \"muslim\", \"muslim\", \"myanmar\", \"myanmar\", \"myanmar\", \"nation\", \"nation\", \"news\", \"north\", \"north\", \"nuclear\", \"nuclear\", \"nuclear\", \"obama\", \"obama\", \"offici\", \"offici\", \"open\", \"open\", \"opposit\", \"opposit\", \"opposit\", \"order\", \"order\", \"parliament\", \"parliament\", \"parliament\", \"parti\", \"parti\", \"plan\", \"plan\", \"polic\", \"polic\", \"polit\", \"polit\", \"poll\", \"pope\", \"pope\", \"presid\", \"presidenti\", \"probe\", \"probe\", \"protest\", \"protest\", \"puerto\", \"puerto\", \"putin\", \"putin\", \"quit\", \"ralli\", \"referendum\", \"referendum\", \"referendum\", \"refuge\", \"refuge\", \"reject\", \"reject\", \"republican\", \"republican\", \"rico\", \"rico\", \"right\", \"right\", \"rohingya\", \"rohingya\", \"rohingya\", \"rule\", \"rule\", \"russia\", \"russia\", \"russian\", \"russian\", \"sanction\", \"sanction\", \"sander\", \"saudi\", \"saudi\", \"saudi\", \"say\", \"say\", \"say\", \"secur\", \"secur\", \"secur\", \"seek\", \"seek\", \"seek\", \"senat\", \"senat\", \"sourc\", \"sourc\", \"south\", \"south\", \"spain\", \"spain\", \"speech\", \"state\", \"state\", \"state\", \"support\", \"suprem\", \"suprem\", \"suspect\", \"suspect\", \"syria\", \"syria\", \"syrian\", \"syrian\", \"talk\", \"talk\", \"talk\", \"trump\", \"trump\", \"trump\", \"turkey\", \"turkey\", \"venezuela\", \"venezuela\", \"video\", \"violenc\", \"violenc\", \"vote\", \"vote\", \"voter\", \"warn\", \"warn\", \"watch\", \"white\", \"white\", \"zealand\", \"zealand\"]}, \"R\": 30, \"lambda.step\": 0.01, \"plot.opts\": {\"xlab\": \"PC1\", \"ylab\": \"PC2\"}, \"topic.order\": [3, 2, 1]};\n",
       "\n",
       "function LDAvis_load_lib(url, callback){\n",
       "  var s = document.createElement('script');\n",
       "  s.src = url;\n",
       "  s.async = true;\n",
       "  s.onreadystatechange = s.onload = callback;\n",
       "  s.onerror = function(){console.warn(\"failed to load library \" + url);};\n",
       "  document.getElementsByTagName(\"head\")[0].appendChild(s);\n",
       "}\n",
       "\n",
       "if(typeof(LDAvis) !== \"undefined\"){\n",
       "   // already loaded: just create the visualization\n",
       "   !function(LDAvis){\n",
       "       new LDAvis(\"#\" + \"ldavis_el52360107703184963736955258\", ldavis_el52360107703184963736955258_data);\n",
       "   }(LDAvis);\n",
       "}else if(typeof define === \"function\" && define.amd){\n",
       "   // require.js is available: use it to load d3/LDAvis\n",
       "   require.config({paths: {d3: \"https://d3js.org/d3.v5\"}});\n",
       "   require([\"d3\"], function(d3){\n",
       "      window.d3 = d3;\n",
       "      LDAvis_load_lib(\"https://cdn.jsdelivr.net/gh/bmabey/pyLDAvis@3.4.0/pyLDAvis/js/ldavis.v3.0.0.js\", function(){\n",
       "        new LDAvis(\"#\" + \"ldavis_el52360107703184963736955258\", ldavis_el52360107703184963736955258_data);\n",
       "      });\n",
       "    });\n",
       "}else{\n",
       "    // require.js not available: dynamically load d3 & LDAvis\n",
       "    LDAvis_load_lib(\"https://d3js.org/d3.v5.js\", function(){\n",
       "         LDAvis_load_lib(\"https://cdn.jsdelivr.net/gh/bmabey/pyLDAvis@3.4.0/pyLDAvis/js/ldavis.v3.0.0.js\", function(){\n",
       "                 new LDAvis(\"#\" + \"ldavis_el52360107703184963736955258\", ldavis_el52360107703184963736955258_data);\n",
       "            })\n",
       "         });\n",
       "}\n",
       "</script>"
      ],
      "text/plain": [
       "<IPython.core.display.HTML object>"
      ]
     },
     "execution_count": 13,
     "metadata": {},
     "output_type": "execute_result"
    }
   ],
   "source": [
    "visualisation_all = gensimvis.prepare(combined_lda_model, combined_corpus, combined_id2word)\n",
    "pyLDAvis.display(visualisation_all)"
   ]
  },
  {
   "cell_type": "code",
   "execution_count": null,
   "metadata": {},
   "outputs": [],
   "source": []
  }
 ],
 "metadata": {
  "kernelspec": {
   "display_name": "Python 3",
   "language": "python",
   "name": "python3"
  },
  "language_info": {
   "codemirror_mode": {
    "name": "ipython",
    "version": 3
   },
   "file_extension": ".py",
   "mimetype": "text/x-python",
   "name": "python",
   "nbconvert_exporter": "python",
   "pygments_lexer": "ipython3",
   "version": "3.9.6"
  },
  "orig_nbformat": 4
 },
 "nbformat": 4,
 "nbformat_minor": 2
}
